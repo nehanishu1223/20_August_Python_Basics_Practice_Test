{
 "cells": [
  {
   "cell_type": "raw",
   "id": "fc2821ae-39cc-4419-9b93-389cb1f78c56",
   "metadata": {},
   "source": [
    "String Based Practice Questions"
   ]
  },
  {
   "cell_type": "raw",
   "id": "ab5bc22f-1ad0-49fd-adca-778208b01c21",
   "metadata": {},
   "source": [
    "Solution 1"
   ]
  },
  {
   "cell_type": "code",
   "execution_count": 1,
   "id": "940229b7-019d-441f-9f98-8d63f1e3aeb0",
   "metadata": {},
   "outputs": [
    {
     "name": "stdout",
     "output_type": "stream",
     "text": [
      "seognaM\n"
     ]
    }
   ],
   "source": [
    "fruit = \"Mangoes\"\n",
    "print(fruit[::-1])"
   ]
  },
  {
   "cell_type": "raw",
   "id": "25bdd20a-8c3c-4252-8fd9-0cc05cdf1173",
   "metadata": {},
   "source": [
    "Solution 2"
   ]
  },
  {
   "cell_type": "code",
   "execution_count": 2,
   "id": "3fb31159-ca23-4ede-8a5d-2e8b15c0f411",
   "metadata": {},
   "outputs": [
    {
     "name": "stdout",
     "output_type": "stream",
     "text": [
      "hallaW scisyhP\n"
     ]
    }
   ],
   "source": [
    "fruit = \"Physics Wallah\"\n",
    "print(fruit[::-1])"
   ]
  },
  {
   "cell_type": "raw",
   "id": "7b630090-aef4-426f-bb5b-54259378af31",
   "metadata": {},
   "source": [
    "Solution 3"
   ]
  },
  {
   "cell_type": "code",
   "execution_count": 3,
   "id": "07fdcb0c-6062-469d-a9e7-c11fb43cd145",
   "metadata": {},
   "outputs": [
    {
     "name": "stdout",
     "output_type": "stream",
     "text": [
      "MATHEMATICS\n"
     ]
    }
   ],
   "source": [
    "book = \"mathematics\"\n",
    "print(book.upper())"
   ]
  },
  {
   "cell_type": "raw",
   "id": "d4bde48f-c344-4a24-8dc9-b1659f10a781",
   "metadata": {},
   "source": [
    "Solution 4"
   ]
  },
  {
   "cell_type": "code",
   "execution_count": 4,
   "id": "8f8b6165-4919-492e-92d3-f3e73fb6b3e3",
   "metadata": {},
   "outputs": [
    {
     "name": "stdout",
     "output_type": "stream",
     "text": [
      "mathematics\n"
     ]
    }
   ],
   "source": [
    "book = \"MATHEMATICS\"\n",
    "print(book.lower())"
   ]
  },
  {
   "cell_type": "raw",
   "id": "81fbe850-98ba-418a-aebd-e22e195bd0c7",
   "metadata": {},
   "source": [
    "Solution 5"
   ]
  },
  {
   "cell_type": "code",
   "execution_count": 5,
   "id": "8c558b37-e276-4672-8c8c-ca2f43eda7b2",
   "metadata": {},
   "outputs": [
    {
     "name": "stdout",
     "output_type": "stream",
     "text": [
      "7\n"
     ]
    }
   ],
   "source": [
    "company = \"samsung is a good brand.\"\n",
    "number_of_vowels = company.count(\"a\") + company.count(\"e\") +company.count(\"i\") + company.count(\"o\") + company.count(\"u\")\n",
    "print(number_of_vowels) "
   ]
  },
  {
   "cell_type": "raw",
   "id": "dc3fb5dd-eaaa-4956-9d80-508812d7b9e5",
   "metadata": {},
   "source": [
    "Solution 6"
   ]
  },
  {
   "cell_type": "code",
   "execution_count": 6,
   "id": "a7c132a5-1bd2-45a6-8470-5c54d7f4eae8",
   "metadata": {},
   "outputs": [
    {
     "name": "stdout",
     "output_type": "stream",
     "text": [
      "17\n"
     ]
    }
   ],
   "source": [
    "company = \"Samsung is a good brand.\"\n",
    "number_of_vowels = company.count(\"a\") + company.count(\"e\") +company.count(\"i\") + company.count(\"o\") + company.count(\"u\")\n",
    "print(len(company) - number_of_vowels)"
   ]
  },
  {
   "cell_type": "raw",
   "id": "a61b48d8-d6e4-47bb-a268-d20959b6fa6f",
   "metadata": {},
   "source": [
    "Solution 7"
   ]
  },
  {
   "cell_type": "code",
   "execution_count": 7,
   "id": "3970059d-4f40-4863-93db-bbb8bf50d2ac",
   "metadata": {},
   "outputs": [
    {
     "name": "stdout",
     "output_type": "stream",
     "text": [
      "Samsungisagoodbrand.\n"
     ]
    }
   ],
   "source": [
    "company = \"Samsung is a good brand.\"\n",
    "remove_whitespaces = company.replace(\" \",\"\")\n",
    "print(remove_whitespaces)"
   ]
  },
  {
   "cell_type": "raw",
   "id": "ba26deb5-202e-4f90-aa0b-c0a9f2d5e309",
   "metadata": {},
   "source": [
    "Solution 8"
   ]
  },
  {
   "cell_type": "code",
   "execution_count": 8,
   "id": "cf794e6b-367c-4064-8185-b3e1f313375d",
   "metadata": {},
   "outputs": [
    {
     "name": "stdout",
     "output_type": "stream",
     "text": [
      "Length of the string: 13\n"
     ]
    }
   ],
   "source": [
    "def string_length(input_string):\n",
    "    count = 0\n",
    "    for _ in input_string:\n",
    "        count += 1\n",
    "    return count\n",
    "\n",
    "\n",
    "input_string = \"Hello, World!\"\n",
    "result = string_length(input_string)\n",
    "print(f\"Length of the string: {result}\")\n"
   ]
  },
  {
   "cell_type": "raw",
   "id": "ef48d515-9d9e-4160-bf76-8f89d1b88a03",
   "metadata": {},
   "source": [
    "Solution 9"
   ]
  },
  {
   "cell_type": "code",
   "execution_count": 10,
   "id": "457e068c-565b-4de8-a82f-8aab2c30f438",
   "metadata": {},
   "outputs": [
    {
     "name": "stdout",
     "output_type": "stream",
     "text": [
      "0\n"
     ]
    }
   ],
   "source": [
    "company = \"Samsung is a good brand.Samsung makes refrigerators, mobiles, Washing machines.\"\n",
    "specific_word = company.find(\"Samsung\")\n",
    "print(specific_word)\n"
   ]
  },
  {
   "cell_type": "raw",
   "id": "0e3f6635-94c3-40a4-83ce-dc905190cbbc",
   "metadata": {},
   "source": [
    "Solution 10"
   ]
  },
  {
   "cell_type": "code",
   "execution_count": 11,
   "id": "d1793d19-d2ab-427b-a0f4-0f4bebc3cf44",
   "metadata": {},
   "outputs": [
    {
     "name": "stdout",
     "output_type": "stream",
     "text": [
      "TCL is a good brand.\n"
     ]
    }
   ],
   "source": [
    "company = \"Samsung is a good brand.\"\n",
    "replace_word = company.replace(\"Samsung\" , \"TCL\")\n",
    "print(replace_word)\n"
   ]
  },
  {
   "cell_type": "raw",
   "id": "8b271c3b-0378-4285-b303-6956e52843d8",
   "metadata": {},
   "source": [
    "Solution 11"
   ]
  },
  {
   "cell_type": "code",
   "execution_count": 14,
   "id": "519f5d00-6f0f-4337-a443-aa584123df85",
   "metadata": {},
   "outputs": [
    {
     "name": "stdout",
     "output_type": "stream",
     "text": [
      "2\n"
     ]
    }
   ],
   "source": [
    "company = \"Samsung is a good brand.Samsung makes refrigerators, mobiles, Washing machines.\"\n",
    "occurence_word = company.count(\"Samsung\")\n",
    "print(occurence_word)\n"
   ]
  },
  {
   "cell_type": "code",
   "execution_count": null,
   "id": "02b0f854-c339-48e4-8c6b-652efc7efb4f",
   "metadata": {},
   "outputs": [],
   "source": [
    "Solution 12"
   ]
  },
  {
   "cell_type": "code",
   "execution_count": 16,
   "id": "597a3ad8-b116-4358-952c-1e698522826f",
   "metadata": {},
   "outputs": [
    {
     "name": "stdout",
     "output_type": "stream",
     "text": [
      "0\n"
     ]
    }
   ],
   "source": [
    "company = \"Samsung is a good brand.Samsung makes refrigerators, mobiles, Washing machines.\"\n",
    "first_occurence_word = company.find(\"Samsung\")\n",
    "print(first_occurence_word)\n"
   ]
  },
  {
   "cell_type": "code",
   "execution_count": null,
   "id": "7acefd5c-ae7d-4154-b687-9775900cc900",
   "metadata": {},
   "outputs": [],
   "source": [
    "Solution 13"
   ]
  },
  {
   "cell_type": "code",
   "execution_count": 18,
   "id": "76f57076-e68f-42e6-9f10-6210959f4f53",
   "metadata": {},
   "outputs": [
    {
     "name": "stdout",
     "output_type": "stream",
     "text": [
      "6\n"
     ]
    }
   ],
   "source": [
    "company = \"Samsung is a good brand.Samsung makes refrigerators, mobiles, Washing machines.\"\n",
    "last_occurence_word = company.find(\"Samsung\"[-1::])\n",
    "print(last_occurence_word)\n",
    "\n",
    "\n",
    "\n"
   ]
  },
  {
   "cell_type": "raw",
   "id": "7797a5de-64a1-4c0e-b8ec-6f4dad34e5bb",
   "metadata": {},
   "source": [
    "Solution 14"
   ]
  },
  {
   "cell_type": "code",
   "execution_count": 20,
   "id": "0c97cbdb-a3e4-43df-86f3-a5c1ad53047a",
   "metadata": {},
   "outputs": [
    {
     "name": "stdout",
     "output_type": "stream",
     "text": [
      "['Samsung', 'is', 'a', 'good', 'brand.Samsung', 'makes', 'refrigerators,', 'mobiles,', 'Washing', 'machines.']\n"
     ]
    }
   ],
   "source": [
    "company = \"Samsung is a good brand.Samsung makes refrigerators, mobiles, Washing machines.\"\n",
    "split_word = company.split()\n",
    "print(split_word)\n",
    "\n",
    "\n"
   ]
  },
  {
   "cell_type": "raw",
   "id": "30161c74-95b2-4c44-ae28-5e13c41d553e",
   "metadata": {},
   "source": [
    "Solution 15"
   ]
  },
  {
   "cell_type": "code",
   "execution_count": 22,
   "id": "0f7a076d-c2c9-4b38-91f1-90caadf61662",
   "metadata": {},
   "outputs": [
    {
     "name": "stdout",
     "output_type": "stream",
     "text": [
      "Samsung is a good company\n"
     ]
    }
   ],
   "source": [
    "list_of_words = [\"Samsung\", \"is\", \"a\", \"good\", \"company\"]\n",
    "join_list = \" \".join(list_of_words)\n",
    "print(join_list)"
   ]
  },
  {
   "cell_type": "raw",
   "id": "6f5257a3-11f8-41e8-a48d-3b02a70afb79",
   "metadata": {},
   "source": [
    "Solution 16"
   ]
  },
  {
   "cell_type": "code",
   "execution_count": 24,
   "id": "01ecd709-6fc1-4b0d-a288-0607e494e744",
   "metadata": {},
   "outputs": [
    {
     "name": "stdout",
     "output_type": "stream",
     "text": [
      "Computer_is_an_electronic_machine.\n"
     ]
    }
   ],
   "source": [
    "machine = \"Computer is an electronic machine.\"\n",
    "underscore_string = machine.replace(\" \" , \"_\")\n",
    "print(underscore_string)"
   ]
  },
  {
   "cell_type": "raw",
   "id": "d13506d0-76e3-470d-a2bd-d2ae3cdbeac5",
   "metadata": {},
   "source": [
    "Solution 17"
   ]
  },
  {
   "cell_type": "code",
   "execution_count": 26,
   "id": "95a96d3c-7655-475e-8625-e0dec15b9236",
   "metadata": {},
   "outputs": [
    {
     "name": "stdout",
     "output_type": "stream",
     "text": [
      "True\n"
     ]
    }
   ],
   "source": [
    "company = \"Samsung is a good brand.Samsung makes refrigerators, mobiles, Washing machines.\"\n",
    "specific_word = company.startswith(\"Samsung\")\n",
    "print(specific_word)\n",
    "\n",
    "\n"
   ]
  },
  {
   "cell_type": "raw",
   "id": "fc1cdbc3-5ba5-478b-987b-672df4064b23",
   "metadata": {},
   "source": [
    "Solution 18"
   ]
  },
  {
   "cell_type": "code",
   "execution_count": 28,
   "id": "456761b4-366f-403e-a763-1d33ecf5d892",
   "metadata": {},
   "outputs": [
    {
     "name": "stdout",
     "output_type": "stream",
     "text": [
      "False\n"
     ]
    }
   ],
   "source": [
    "company = \"Samsung is a good brand.Samsung makes refrigerators, mobiles, Washing machines.\"\n",
    "specific_word = company.endswith(\"machines\")\n",
    "print(specific_word)\n",
    "\n",
    "\n"
   ]
  },
  {
   "cell_type": "raw",
   "id": "7a50667d-708b-4cc3-84d7-6094c95da904",
   "metadata": {},
   "source": [
    "Solution 19"
   ]
  },
  {
   "cell_type": "code",
   "execution_count": 30,
   "id": "e0b4c137-a179-4370-8bb1-132633d408ab",
   "metadata": {},
   "outputs": [
    {
     "name": "stdout",
     "output_type": "stream",
     "text": [
      "Hello World\n"
     ]
    }
   ],
   "source": [
    "given_string = \"hello world\"\n",
    "title_case = given_string.title()\n",
    "print(title_case)"
   ]
  },
  {
   "cell_type": "raw",
   "id": "f736f858-667c-43b9-82b9-895b5139f73b",
   "metadata": {},
   "source": [
    "Solution 20"
   ]
  },
  {
   "cell_type": "code",
   "execution_count": 32,
   "id": "aa79e828-ceab-4ff7-8c9c-49ace6e243ab",
   "metadata": {},
   "outputs": [
    {
     "name": "stdout",
     "output_type": "stream",
     "text": [
      "14\n"
     ]
    }
   ],
   "source": [
    "company = \"Samsung is a good brand.Samsung makes refrigerators, mobiles, Washing machines.\"\n",
    "words = company.split()\n",
    "longest_word_length = max(len(word) for word in words)\n",
    "print(longest_word_length)\n",
    "\n",
    "\n",
    "\n"
   ]
  },
  {
   "cell_type": "raw",
   "id": "95cecebf-65b9-4d16-a5d7-01c428c9a19c",
   "metadata": {},
   "source": [
    "Solution 21"
   ]
  },
  {
   "cell_type": "code",
   "execution_count": 34,
   "id": "bbfa3030-f201-4e29-a29f-06ae480ef2a1",
   "metadata": {},
   "outputs": [
    {
     "name": "stdout",
     "output_type": "stream",
     "text": [
      "1\n"
     ]
    }
   ],
   "source": [
    "company = \"Samsung is a good brand.Samsung makes refrigerators, mobiles, Washing machines.\"\n",
    "words = company.split()\n",
    "shortest_word_length = min(len(word) for word in words)\n",
    "print(shortest_word_length)\n",
    "\n",
    "\n",
    "\n"
   ]
  },
  {
   "cell_type": "raw",
   "id": "e7645b9b-0a32-42f9-87e3-8beae507874c",
   "metadata": {},
   "source": [
    "Solution 22"
   ]
  },
  {
   "cell_type": "code",
   "execution_count": 36,
   "id": "bb122025-3597-4bd4-9beb-2471ed58e983",
   "metadata": {},
   "outputs": [
    {
     "name": "stdout",
     "output_type": "stream",
     "text": [
      "hallaW scisyhP\n"
     ]
    }
   ],
   "source": [
    "online_education = \"Physics Wallah\"\n",
    "\n",
    "reverse_order = online_education[::-1]\n",
    "print(reverse_order)"
   ]
  },
  {
   "cell_type": "raw",
   "id": "a413cb03-b2a3-4234-9f60-d6f4a559efba",
   "metadata": {},
   "source": [
    "Solution 23"
   ]
  },
  {
   "cell_type": "code",
   "execution_count": 38,
   "id": "8a291102-3ce3-4cb5-9049-db1a22bf1605",
   "metadata": {},
   "outputs": [
    {
     "name": "stdout",
     "output_type": "stream",
     "text": [
      "True\n"
     ]
    }
   ],
   "source": [
    "given_string = \"pwskills12345\"\n",
    "alphanumeric_string = given_string.isalnum()\n",
    "print(alphanumeric_string)"
   ]
  },
  {
   "cell_type": "raw",
   "id": "41506f27-84f5-44db-a9d4-ffaf78c68fbc",
   "metadata": {},
   "source": [
    "Solution 24"
   ]
  },
  {
   "cell_type": "code",
   "execution_count": 40,
   "id": "9ce15abd-48d9-4557-91ad-e37692f2507f",
   "metadata": {},
   "outputs": [
    {
     "name": "stdout",
     "output_type": "stream",
     "text": [
      "('12', '19')\n"
     ]
    }
   ],
   "source": [
    "given_string = (\"Mango is a fruit.\",\"12\",\"19\")\n",
    "digits_in_string = given_string[1:3]\n",
    "print(digits_in_string)"
   ]
  },
  {
   "cell_type": "raw",
   "id": "a095c130-3e1a-4986-a0dc-bdad6009e9a9",
   "metadata": {},
   "source": [
    "Solution 25"
   ]
  },
  {
   "cell_type": "code",
   "execution_count": 42,
   "id": "a96555d9-ed4b-4f3a-b143-c5d6f5a4e7c3",
   "metadata": {},
   "outputs": [
    {
     "name": "stdout",
     "output_type": "stream",
     "text": [
      "('Mango is a fruit.',)\n"
     ]
    }
   ],
   "source": [
    "given_string = (\"Mango is a fruit.\",\"12\",\"19\")\n",
    "alphabets_in_string = given_string[0:1]\n",
    "print(alphabets_in_string)"
   ]
  },
  {
   "cell_type": "raw",
   "id": "15f8020f-645f-4edf-a0d9-e624061ebf65",
   "metadata": {},
   "source": [
    "Solution 26"
   ]
  },
  {
   "cell_type": "code",
   "execution_count": 44,
   "id": "c864c1ec-4c63-4136-a559-ce15df709f4f",
   "metadata": {},
   "outputs": [
    {
     "name": "stdout",
     "output_type": "stream",
     "text": [
      "79\n"
     ]
    }
   ],
   "source": [
    "company = \"Samsung is a good brand.Samsung makes Refrigerators, Mobiles, Washing Machines.\"\n",
    "number_of_uppercase = len(company.upper())    \n",
    "print(number_of_uppercase)\n",
    "\n",
    "\n"
   ]
  },
  {
   "cell_type": "raw",
   "id": "702e48f2-c2ec-4df0-bd4b-b2c69c13cf6c",
   "metadata": {},
   "source": [
    "Solution 27"
   ]
  },
  {
   "cell_type": "code",
   "execution_count": 47,
   "id": "e3e62c4b-3bc2-444f-899f-afe7762c781e",
   "metadata": {},
   "outputs": [
    {
     "name": "stdout",
     "output_type": "stream",
     "text": [
      "Number of lowercase letters: 24\n"
     ]
    }
   ],
   "source": [
    "def count_lowercase_letters(input_string):\n",
    "    count = 0\n",
    "    for char in input_string:\n",
    "        if char.islower():\n",
    "            count += 1\n",
    "    return count\n",
    "\n",
    "\n",
    "input_string = \"Hello World! This is a Sample String.\"\n",
    "result = count_lowercase_letters(input_string)\n",
    "print(f\"Number of lowercase letters: {result}\")\n"
   ]
  },
  {
   "cell_type": "raw",
   "id": "57430912-3da7-444e-af0f-bc7362254568",
   "metadata": {},
   "source": [
    "Solution 28"
   ]
  },
  {
   "cell_type": "code",
   "execution_count": 49,
   "id": "448bf1c2-4fc1-48e0-9756-9f91a974bc4b",
   "metadata": {},
   "outputs": [
    {
     "name": "stdout",
     "output_type": "stream",
     "text": [
      "Swapped Case String: tHIS IS A sAMPLE sTRING WITH mIXED cASE.\n"
     ]
    }
   ],
   "source": [
    "given_string = \"This is a Sample String with Mixed Case.\"\n",
    "swapped_string = given_string.swapcase()\n",
    "\n",
    "\n",
    "print(\"Swapped Case String:\", swapped_string)"
   ]
  },
  {
   "cell_type": "raw",
   "id": "f9a0dfa5-48c1-449f-a989-265b05f73f13",
   "metadata": {},
   "source": [
    "Solution 29"
   ]
  },
  {
   "cell_type": "code",
   "execution_count": 51,
   "id": "075e0167-241e-4de3-a4b2-c6d97da767c9",
   "metadata": {},
   "outputs": [
    {
     "name": "stdout",
     "output_type": "stream",
     "text": [
      "Original String: This is a sample string. Remove 'sample' from this string.\n",
      "Modified String: This is a  string. Remove '' from this string.\n"
     ]
    }
   ],
   "source": [
    "original_string = \"This is a sample string. Remove 'sample' from this string.\"\n",
    "word_to_remove = \"sample\"\n",
    "\n",
    "modified_string = original_string.replace(word_to_remove, '')\n",
    "\n",
    "print(\"Original String:\", original_string)\n",
    "print(\"Modified String:\", modified_string)"
   ]
  },
  {
   "cell_type": "raw",
   "id": "1172e758-3b85-4ca0-b721-815a8f4ac3bf",
   "metadata": {},
   "source": [
    "Solution 30"
   ]
  },
  {
   "cell_type": "raw",
   "id": "35a8a5c1-7465-4573-b34b-2d1db3258beb",
   "metadata": {},
   "source": [
    "Solution 31"
   ]
  },
  {
   "cell_type": "code",
   "execution_count": 54,
   "id": "8ab47428-aef2-4266-8fd1-0f46d69787d5",
   "metadata": {},
   "outputs": [
    {
     "name": "stdout",
     "output_type": "stream",
     "text": [
      "Username: example.user\n"
     ]
    }
   ],
   "source": [
    "def extract_username(email):\n",
    "    \n",
    "    username = email.split('@')[0]\n",
    "    return username\n",
    "\n",
    "email_address = \"example.user@email.com\"\n",
    "username = extract_username(email_address)\n",
    "\n",
    "if username:\n",
    "    print(\"Username:\", username)\n",
    "else:\n",
    "    print(\"No username found in the email address.\")"
   ]
  },
  {
   "cell_type": "raw",
   "id": "163b9fd0-cd15-4385-b1d9-6a5b5c932430",
   "metadata": {},
   "source": [
    "Solution 32"
   ]
  },
  {
   "cell_type": "code",
   "execution_count": 56,
   "id": "136315ee-8d1e-4389-a757-51ab0a2cc9ca",
   "metadata": {},
   "outputs": [
    {
     "name": "stdout",
     "output_type": "stream",
     "text": [
      "Domain: email.com\n"
     ]
    }
   ],
   "source": [
    "def extract_domain(email):\n",
    "    \n",
    "    domain = email.split('@')[-1]\n",
    "    return domain\n",
    "\n",
    "\n",
    "email_address = \"example.user@email.com\"\n",
    "domain = extract_domain(email_address)\n",
    "\n",
    "if domain:\n",
    "    print(\"Domain:\", domain)\n",
    "else:\n",
    "    print(\"No domain found in the email address.\")"
   ]
  },
  {
   "cell_type": "raw",
   "id": "4d3ef7b6-75ea-4429-b604-803ecd6d5f78",
   "metadata": {},
   "source": [
    "Solution 33"
   ]
  },
  {
   "cell_type": "code",
   "execution_count": 58,
   "id": "8cb14c43-9994-41e9-ad53-ab1071e0926c",
   "metadata": {},
   "outputs": [
    {
     "name": "stdout",
     "output_type": "stream",
     "text": [
      "Samsung is a good brand.Samsung makes refrigerators, mobiles, Washing machines.\n"
     ]
    }
   ],
   "source": [
    "company = \"Samsung   is a good brand.Samsung makes refrigerators, mobiles, Washing machines.\"\n",
    "multiple_spaces = company.replace(\"   \" , \" \")\n",
    "\n",
    "print(multiple_spaces)\n",
    "\n",
    "\n",
    "\n"
   ]
  },
  {
   "cell_type": "raw",
   "id": "0b5fde7e-7b5d-42dd-a3f6-d41b7c75a193",
   "metadata": {},
   "source": [
    "Solution 34"
   ]
  },
  {
   "cell_type": "raw",
   "id": "fca36db0-2d0d-4314-add7-c71c1fbba11a",
   "metadata": {},
   "source": [
    "Solution 35"
   ]
  },
  {
   "cell_type": "code",
   "execution_count": 62,
   "id": "de2c03f8-22ff-4e8f-b5d1-cd2004451098",
   "metadata": {},
   "outputs": [
    {
     "name": "stdout",
     "output_type": "stream",
     "text": [
      "Protocol for https://www.example.com: https\n"
     ]
    }
   ],
   "source": [
    "from urllib.parse import urlparse\n",
    "\n",
    "def extract_protocol(url):\n",
    "    parsed_url = urlparse(url)\n",
    "    return parsed_url.scheme\n",
    "\n",
    "# Example usage:\n",
    "url_to_check = \"https://www.example.com\"\n",
    "protocol = extract_protocol(url_to_check)\n",
    "\n",
    "if protocol:\n",
    "    print(f\"Protocol for {url_to_check}: {protocol}\")\n",
    "else:\n",
    "    print(f\"No protocol found in {url_to_check}\")"
   ]
  },
  {
   "cell_type": "raw",
   "id": "1684afa6-60cc-41e7-98b9-6fcc51670cef",
   "metadata": {},
   "source": [
    "Solution 36"
   ]
  },
  {
   "cell_type": "code",
   "execution_count": 64,
   "id": "e87183ae-bd68-4e95-94f3-fa7512d45d2e",
   "metadata": {},
   "outputs": [
    {
     "name": "stdout",
     "output_type": "stream",
     "text": [
      "Character: h, Frequency: 1\n",
      "Character: e, Frequency: 1\n",
      "Character: l, Frequency: 3\n",
      "Character: o, Frequency: 2\n",
      "Character:  , Frequency: 1\n",
      "Character: w, Frequency: 1\n",
      "Character: r, Frequency: 1\n",
      "Character: d, Frequency: 1\n"
     ]
    }
   ],
   "source": [
    "from collections import Counter\n",
    "\n",
    "def character_frequency(input_string):\n",
    "    return Counter(input_string)\n",
    "\n",
    "# Example usage:\n",
    "input_str = \"hello world\"\n",
    "frequency_result = character_frequency(input_str)\n",
    "\n",
    "# Print the character frequencies\n",
    "for char, count in frequency_result.items():\n",
    "    print(f\"Character: {char}, Frequency: {count}\")"
   ]
  },
  {
   "cell_type": "raw",
   "id": "f447014e-4a1a-420e-a2da-3ca704b21849",
   "metadata": {},
   "source": [
    "Solution 37"
   ]
  },
  {
   "cell_type": "code",
   "execution_count": 66,
   "id": "133654f9-62fb-48d2-b0e8-dccd307a1abf",
   "metadata": {},
   "outputs": [
    {
     "name": "stdout",
     "output_type": "stream",
     "text": [
      "Original string: Hello, World! This is an example string with punctuation.\n",
      "Cleaned string: Hello World This is an example string with punctuation\n"
     ]
    }
   ],
   "source": [
    "import string\n",
    "\n",
    "def remove_punctuation(input_string):\n",
    "    \n",
    "    translator = str.maketrans(\"\", \"\", string.punctuation)\n",
    "    return input_string.translate(translator)\n",
    "\n",
    "\n",
    "original_string = \"Hello, World! This is an example string with punctuation.\"\n",
    "cleaned_string = remove_punctuation(original_string)\n",
    "\n",
    "print(\"Original string:\", original_string)\n",
    "print(\"Cleaned string:\", cleaned_string)"
   ]
  },
  {
   "cell_type": "raw",
   "id": "45c8ff7c-d8ba-4f29-8e71-109239dde594",
   "metadata": {},
   "source": [
    "Solution 38"
   ]
  },
  {
   "cell_type": "code",
   "execution_count": 68,
   "id": "78bfb6f8-2094-4f57-aa3e-5d2164f53d19",
   "metadata": {},
   "outputs": [
    {
     "name": "stdout",
     "output_type": "stream",
     "text": [
      "The string '123456' contains only digits.\n"
     ]
    }
   ],
   "source": [
    "def contains_only_digits(input_string):\n",
    "    return input_string.isdigit()\n",
    "\n",
    "\n",
    "string_to_check = \"123456\"\n",
    "if contains_only_digits(string_to_check):\n",
    "    print(f\"The string '{string_to_check}' contains only digits.\")\n",
    "else:\n",
    "    print(f\"The string '{string_to_check}' does not contain only digits.\")"
   ]
  },
  {
   "cell_type": "raw",
   "id": "6cb3285c-1639-4fed-bfa6-97f9e9019598",
   "metadata": {},
   "source": [
    "Solution 39"
   ]
  },
  {
   "cell_type": "code",
   "execution_count": 70,
   "id": "50b25103-579a-4bc5-a3e6-678f22128c43",
   "metadata": {},
   "outputs": [
    {
     "name": "stdout",
     "output_type": "stream",
     "text": [
      "The string 'abcXYZ' contains only alphabets.\n"
     ]
    }
   ],
   "source": [
    "def contains_only_alphabets(input_string):\n",
    "    return input_string.isalpha()\n",
    "\n",
    "# Example usage:\n",
    "string_to_check = \"abcXYZ\"\n",
    "if contains_only_alphabets(string_to_check):\n",
    "    print(f\"The string '{string_to_check}' contains only alphabets.\")\n",
    "else:\n",
    "    print(f\"The string '{string_to_check}' does not contain only alphabets.\")"
   ]
  },
  {
   "cell_type": "raw",
   "id": "97de895f-f8be-4d0e-843e-3112e36a18f0",
   "metadata": {},
   "source": [
    "Solution 40"
   ]
  },
  {
   "cell_type": "code",
   "execution_count": 72,
   "id": "ba9278e9-c026-484b-a1b9-5427935c1ade",
   "metadata": {},
   "outputs": [
    {
     "name": "stdout",
     "output_type": "stream",
     "text": [
      "['H', 'e', 'l', 'l', 'o', ',', ' ', 'W', 'o', 'r', 'l', 'd', '!']\n"
     ]
    }
   ],
   "source": [
    "input_string = \"Hello, World!\"\n",
    "list_of_characters = list(input_string)\n",
    "\n",
    "print(list_of_characters)"
   ]
  },
  {
   "cell_type": "raw",
   "id": "63d491fc-5c82-4900-89d2-afce209beb39",
   "metadata": {},
   "source": [
    "Solution 41"
   ]
  },
  {
   "cell_type": "code",
   "execution_count": 74,
   "id": "6936a0dd-73f7-4584-a78b-f5d8e9bd2a35",
   "metadata": {},
   "outputs": [
    {
     "name": "stdout",
     "output_type": "stream",
     "text": [
      "Listen and Silent are anagrams.\n"
     ]
    }
   ],
   "source": [
    "def are_anagrams(str1, str2):\n",
    "    \n",
    "    str1 = str1.replace(\" \", \"\").lower()\n",
    "    str2 = str2.replace(\" \", \"\").lower()\n",
    "    return sorted(str1) == sorted(str2)\n",
    "\n",
    "\n",
    "string1 = \"Listen\"\n",
    "string2 = \"Silent\"\n",
    "result = are_anagrams(string1, string2)\n",
    "\n",
    "if result:\n",
    "    print(f\"{string1} and {string2} are anagrams.\")\n",
    "else:\n",
    "    print(f\"{string1} and {string2} are not anagrams.\")"
   ]
  },
  {
   "cell_type": "raw",
   "id": "c3d801de-174a-4db5-988f-f89abd9295f3",
   "metadata": {},
   "source": [
    "Solution 42"
   ]
  },
  {
   "cell_type": "code",
   "execution_count": 76,
   "id": "bd7c7448-6f6d-4343-89f1-02f9472f94f1",
   "metadata": {},
   "outputs": [
    {
     "name": "stdout",
     "output_type": "stream",
     "text": [
      "Original text: Hello, World!\n",
      "Encrypted text: Khoor, Zruog!\n"
     ]
    }
   ],
   "source": [
    "def caesar_cipher(text, shift):\n",
    "    result = \"\"\n",
    "    for char in text:\n",
    "        if char.isalpha():\n",
    "            # Shift the character by the specified amount\n",
    "            shifted_char = chr((ord(char) - ord('A' if char.isupper() else 'a') + shift) % 26 + ord('A' if char.isupper() else 'a'))\n",
    "            result += shifted_char\n",
    "        else:\n",
    "            result += char\n",
    "\n",
    "    return result\n",
    "\n",
    "\n",
    "plaintext = \"Hello, World!\"\n",
    "shift_amount = 3\n",
    "encrypted_text = caesar_cipher(plaintext, shift_amount)\n",
    "print(f\"Original text: {plaintext}\")\n",
    "print(f\"Encrypted text: {encrypted_text}\")"
   ]
  },
  {
   "cell_type": "raw",
   "id": "0a0eefc7-c1f2-40ac-a9e2-4bbfe2fd307c",
   "metadata": {},
   "source": [
    "Solution 43"
   ]
  },
  {
   "cell_type": "code",
   "execution_count": 78,
   "id": "fc67eb79-40d9-4c19-9106-e78531ba9e7d",
   "metadata": {},
   "outputs": [
    {
     "name": "stdout",
     "output_type": "stream",
     "text": [
      "Hello world!\n"
     ]
    }
   ],
   "source": [
    "def caesar_cipher_decode(ciphertext, shift):\n",
    "    result = \"\"\n",
    "    for char in ciphertext:\n",
    "        if char.isalpha():\n",
    "            \n",
    "            is_upper = char.isupper()\n",
    "            \n",
    "            char_code = ord(char) - shift\n",
    "            if is_upper:\n",
    "                char_code = (char_code - ord('A')) % 26 + ord('A')\n",
    "            else:\n",
    "                char_code = (char_code - ord('a')) % 26 + ord('a')\n",
    "            \n",
    "            \n",
    "            result += chr(char_code)\n",
    "        else:\n",
    "            \n",
    "            result += char\n",
    "    \n",
    "    return result\n",
    "\n",
    "\n",
    "encoded_text = \"Ifmmp xpsme!\"\n",
    "shift_amount = 1\n",
    "decoded_text = caesar_cipher_decode(encoded_text, shift_amount)\n",
    "print(decoded_text)"
   ]
  },
  {
   "cell_type": "raw",
   "id": "a361c71f-f879-4b4b-87ac-f82db6a51fd9",
   "metadata": {},
   "source": [
    "Solution 44"
   ]
  },
  {
   "cell_type": "code",
   "execution_count": 82,
   "id": "4934b228-029c-41bf-a74f-6b0aa6d08d3b",
   "metadata": {},
   "outputs": [
    {
     "name": "stdout",
     "output_type": "stream",
     "text": [
      "Most frequent word: is\n"
     ]
    }
   ],
   "source": [
    "from collections import Counter\n",
    "import re\n",
    "\n",
    "def most_frequent_word(text):\n",
    "    words = re.findall(r'\\b\\w+\\b', text.lower())\n",
    "    word_counts = Counter(words)\n",
    "    most_common_word = max(word_counts, key=lambda k: word_counts[k], default=None)\n",
    "    return most_common_word\n",
    "\n",
    "\n",
    "input_text = \"This is a simple example. Simple is good. Simple is clear.\"\n",
    "result = most_frequent_word(input_text)\n",
    "print(\"Most frequent word:\", result)"
   ]
  },
  {
   "cell_type": "raw",
   "id": "4e906a21-631d-4ae1-bbbd-cf843ee481a9",
   "metadata": {},
   "source": [
    "Solution 45"
   ]
  },
  {
   "cell_type": "code",
   "execution_count": 83,
   "id": "ddb492fc-76e9-40d2-bd14-2908b387035c",
   "metadata": {},
   "outputs": [
    {
     "name": "stdout",
     "output_type": "stream",
     "text": [
      "Unique words: {'is', 'simple', 'example', 'this', 'good', 'a', 'clear'}\n"
     ]
    }
   ],
   "source": [
    "import re\n",
    "\n",
    "def unique_words(text):\n",
    "    return set(re.findall(r'\\b\\w+\\b', text.lower()))\n",
    "\n",
    "\n",
    "input_text = \"This is a simple example. Simple is good. Simple is clear.\"\n",
    "result = unique_words(input_text)\n",
    "print(\"Unique words:\", result)"
   ]
  },
  {
   "cell_type": "raw",
   "id": "d6edda63-1910-4f57-b068-c7866ec8d3ee",
   "metadata": {},
   "source": [
    "Solution 46"
   ]
  },
  {
   "cell_type": "code",
   "execution_count": 85,
   "id": "b9b80a15-a838-40f6-b051-ee8f1dc2763d",
   "metadata": {},
   "outputs": [
    {
     "name": "stdout",
     "output_type": "stream",
     "text": [
      "Total syllables: 13\n"
     ]
    }
   ],
   "source": [
    "import re\n",
    "\n",
    "def count_syllables(word):\n",
    "    vowels = \"aeiouy\"\n",
    "    word = word.lower()\n",
    "    return max(1, sum(1 for i in range(1, len(word)) if word[i] in vowels and word[i - 1] not in vowels) - (word.endswith('e') and word[-2] not in vowels))\n",
    "\n",
    "def count_total_syllables(text):\n",
    "    words = re.findall(r'\\b\\w+\\b', text.lower())\n",
    "    return sum(count_syllables(word) for word in words)\n",
    "\n",
    "\n",
    "input_text = \"This is a simple example. Syllables are counted in words.\"\n",
    "result = count_total_syllables(input_text)\n",
    "print(\"Total syllables:\", result)"
   ]
  },
  {
   "cell_type": "raw",
   "id": "ea9f7119-7001-4b85-964e-3a3e0a8f6a33",
   "metadata": {},
   "source": [
    "Solution 47"
   ]
  },
  {
   "cell_type": "code",
   "execution_count": 87,
   "id": "1b1aaaf5-22c6-4aed-af14-74ac4b02813d",
   "metadata": {},
   "outputs": [
    {
     "name": "stdout",
     "output_type": "stream",
     "text": [
      "Contains special characters: False\n"
     ]
    }
   ],
   "source": [
    "import re\n",
    "\n",
    "def contains_special_characters(input_string):\n",
    "    special_characters = re.compile(r'[@_!#$%^&*()<>?/\\|}{~:]')\n",
    "\n",
    "    \n",
    "    return bool(re.search(special_characters, input_string))\n",
    "\n",
    "# Example usage:\n",
    "input_text = \"This is a string without special characters.\"\n",
    "result = contains_special_characters(input_text)\n",
    "print(\"Contains special characters:\", result)\n"
   ]
  },
  {
   "cell_type": "raw",
   "id": "d4317cf9-75c2-48cb-9d6e-6773c53dfc77",
   "metadata": {},
   "source": [
    "Solution 48"
   ]
  },
  {
   "cell_type": "code",
   "execution_count": 89,
   "id": "e50c38a1-8315-49d2-bb7d-beb79678ef2d",
   "metadata": {},
   "outputs": [
    {
     "name": "stdout",
     "output_type": "stream",
     "text": [
      "Result: This is example sentence to demonstrate removing the nth word\n"
     ]
    }
   ],
   "source": [
    "import re\n",
    "\n",
    "def remove_nth_word(input_string, n):\n",
    "    words = re.findall(r'\\b\\w+\\b', input_string)\n",
    "\n",
    "    if 1 <= n <= len(words):\n",
    "        words.pop(n - 1)\n",
    "\n",
    "    return ' '.join(words)\n",
    "\n",
    "\n",
    "input_text = \"This is an example sentence to demonstrate removing the nth word.\"\n",
    "n = 3  \n",
    "result = remove_nth_word(input_text, n)\n",
    "print(\"Result:\", result)"
   ]
  },
  {
   "cell_type": "raw",
   "id": "c1284e3b-1c21-4a80-9ffa-612229e0690a",
   "metadata": {},
   "source": [
    "Solution 49"
   ]
  },
  {
   "cell_type": "code",
   "execution_count": 91,
   "id": "d8345570-07d9-4831-8ff5-aec0a2335cc3",
   "metadata": {},
   "outputs": [
    {
     "name": "stdout",
     "output_type": "stream",
     "text": [
      "Hello, beautiful world!\n"
     ]
    }
   ],
   "source": [
    "def insert_word_at_n(string, word, n):\n",
    "    return string[:n] + word + string[n:]\n",
    "\n",
    "\n",
    "original_string = \"Hello, world!\"\n",
    "word_to_insert = \"beautiful \"\n",
    "position_to_insert = 7\n",
    "\n",
    "result = insert_word_at_n(original_string, word_to_insert, position_to_insert)\n",
    "print(result)"
   ]
  },
  {
   "cell_type": "raw",
   "id": "a464ac6c-a0ef-469d-8ef5-c0777e449884",
   "metadata": {},
   "source": [
    "Solution 50"
   ]
  },
  {
   "cell_type": "code",
   "execution_count": 93,
   "id": "04c0bb4e-0e54-4f6b-a896-fd92acb2d8db",
   "metadata": {},
   "outputs": [
    {
     "name": "stdout",
     "output_type": "stream",
     "text": [
      "[['1', 'John', 'Doe'], ['2', 'Jane', 'Smith'], ['3', 'Bob', 'Johnson']]\n"
     ]
    }
   ],
   "source": [
    "import csv\n",
    "from io import StringIO\n",
    "\n",
    "def csv_string_to_list(csv_string):\n",
    "    \n",
    "    csv_file = StringIO(csv_string)\n",
    "\n",
    "    \n",
    "    csv_reader = csv.reader(csv_file)\n",
    "\n",
    "    \n",
    "    result_list = list(csv_reader)\n",
    "\n",
    "    return result_list\n",
    "\n",
    "\n",
    "csv_string = \"1,John,Doe\\n2,Jane,Smith\\n3,Bob,Johnson\"\n",
    "result = csv_string_to_list(csv_string)\n",
    "print(result)\n"
   ]
  },
  {
   "cell_type": "code",
   "execution_count": null,
   "id": "1098762e-6a92-482f-aaa2-c465f3926c93",
   "metadata": {},
   "outputs": [],
   "source": []
  },
  {
   "cell_type": "raw",
   "id": "8c22aa67-cdd4-4d8a-87d5-5869fba71b95",
   "metadata": {},
   "source": [
    "List Based Practice Pronlem"
   ]
  },
  {
   "cell_type": "raw",
   "id": "a86f489f-fe9e-4960-a4f8-3dcb54f97e75",
   "metadata": {},
   "source": [
    "Solution 1"
   ]
  },
  {
   "cell_type": "code",
   "execution_count": 95,
   "id": "6d5ef55f-77d6-4ed1-8124-63a6168a8021",
   "metadata": {},
   "outputs": [
    {
     "name": "stdout",
     "output_type": "stream",
     "text": [
      "[1, 2, 3, 4, 5, 6, 7, 8, 9, 10]\n"
     ]
    }
   ],
   "source": [
    "my_list = list(range(1, 11))\n",
    "print(my_list)"
   ]
  },
  {
   "cell_type": "raw",
   "id": "6fa7c669-409f-4ca4-a860-1737c7fe529a",
   "metadata": {},
   "source": [
    "Solution 2"
   ]
  },
  {
   "cell_type": "code",
   "execution_count": 97,
   "id": "1e4d396e-faa6-4301-9a3e-9da89c9719e1",
   "metadata": {},
   "outputs": [
    {
     "name": "stdout",
     "output_type": "stream",
     "text": [
      "Length of the list: 10\n"
     ]
    }
   ],
   "source": [
    "my_list = [1, 2, 3, 4, 5, 6, 7, 8, 9, 10]\n",
    "\n",
    "\n",
    "length = 0\n",
    "\n",
    "\n",
    "for _ in my_list:\n",
    "    length += 1\n",
    "\n",
    "print(\"Length of the list:\", length)"
   ]
  },
  {
   "cell_type": "raw",
   "id": "d17d64c9-95ae-4305-aeba-5d4ca15c46e6",
   "metadata": {},
   "source": [
    "Solution 3"
   ]
  },
  {
   "cell_type": "code",
   "execution_count": 99,
   "id": "26a888b0-f5bc-4346-a78f-542952cfab97",
   "metadata": {},
   "outputs": [
    {
     "name": "stdout",
     "output_type": "stream",
     "text": [
      "[1, 2, 3, 4, 5, 6]\n"
     ]
    }
   ],
   "source": [
    "my_list = [1, 2, 3, 4, 5]\n",
    "\n",
    "\n",
    "my_list.append(6)\n",
    "\n",
    "print(my_list)"
   ]
  },
  {
   "cell_type": "raw",
   "id": "69353af0-32aa-43da-bbf1-f32a70a4b889",
   "metadata": {},
   "source": [
    "solution 4"
   ]
  },
  {
   "cell_type": "raw",
   "id": "f1eb6945-2b1d-4af3-9101-fcec62c81e4a",
   "metadata": {},
   "source": [
    "my_list = [1, 2, 3, 4, 5]\n",
    "\n",
    "\n",
    "my_list.insert(2, 6)\n",
    "\n",
    "print(my_list)"
   ]
  },
  {
   "cell_type": "raw",
   "id": "5a9915ff-dbd8-4c75-99cf-06c0f7a1ec82",
   "metadata": {},
   "source": [
    "Solution 5"
   ]
  },
  {
   "cell_type": "code",
   "execution_count": 3,
   "id": "78ed4f9e-ce48-4604-8375-ec8b0305607a",
   "metadata": {},
   "outputs": [
    {
     "name": "stdout",
     "output_type": "stream",
     "text": [
      "[1, 2, 4, 5]\n"
     ]
    }
   ],
   "source": [
    "my_list = [1, 2, 3, 4, 5]\n",
    "\n",
    "\n",
    "my_list.remove(3)\n",
    "\n",
    "print(my_list)"
   ]
  },
  {
   "cell_type": "raw",
   "id": "679cc619-f969-4447-8bd4-0ae17347fe90",
   "metadata": {},
   "source": [
    "Solution 6"
   ]
  },
  {
   "cell_type": "code",
   "execution_count": 5,
   "id": "89d1fe09-7d2b-4968-b71a-2bbc08aca89d",
   "metadata": {},
   "outputs": [
    {
     "name": "stdout",
     "output_type": "stream",
     "text": [
      "Removed Element: 3\n",
      "Updated List: [1, 2, 4, 5]\n"
     ]
    }
   ],
   "source": [
    "my_list = [1, 2, 3, 4, 5]\n",
    "\n",
    "\n",
    "removed_element = my_list.pop(2)\n",
    "\n",
    "print(\"Removed Element:\", removed_element)\n",
    "print(\"Updated List:\", my_list)"
   ]
  },
  {
   "cell_type": "raw",
   "id": "7223f519-58bf-44dc-ba5b-11b4c35d4896",
   "metadata": {},
   "source": [
    "Solution 7"
   ]
  },
  {
   "cell_type": "code",
   "execution_count": 7,
   "id": "68de7678-f2f2-49b7-a20c-5963b17c1d2c",
   "metadata": {},
   "outputs": [
    {
     "name": "stdout",
     "output_type": "stream",
     "text": [
      "Element 3 exists in the list.\n"
     ]
    }
   ],
   "source": [
    "my_list = [1, 2, 3, 4, 5]\n",
    "\n",
    "\n",
    "if 3 in my_list:\n",
    "    print(\"Element 3 exists in the list.\")\n",
    "else:\n",
    "    print(\"Element 3 does not exist in the list.\")"
   ]
  },
  {
   "cell_type": "raw",
   "id": "5a7695e1-21ac-430f-8074-335add79a557",
   "metadata": {},
   "source": [
    "Solution 8"
   ]
  },
  {
   "cell_type": "code",
   "execution_count": 9,
   "id": "9dfe5305-e5ba-4639-9f4d-1dc8fa68e306",
   "metadata": {},
   "outputs": [
    {
     "name": "stdout",
     "output_type": "stream",
     "text": [
      "Index of element 3: 2\n"
     ]
    }
   ],
   "source": [
    "my_list = [1, 2, 3, 4, 5]\n",
    "\n",
    "\n",
    "index_of_3 = my_list.index(3)\n",
    "\n",
    "print(\"Index of element 3:\", index_of_3)"
   ]
  },
  {
   "cell_type": "raw",
   "id": "a2b75362-9089-4efd-a85c-3c0fe66b3e39",
   "metadata": {},
   "source": [
    "Solution 9"
   ]
  },
  {
   "cell_type": "code",
   "execution_count": 11,
   "id": "b97662e0-f4dc-43c8-ae31-923645aba0e9",
   "metadata": {},
   "outputs": [
    {
     "name": "stdout",
     "output_type": "stream",
     "text": [
      "Occurrences of element 2: 3\n"
     ]
    }
   ],
   "source": [
    "my_list = [1, 2, 3, 4, 2, 5, 2]\n",
    "\n",
    "\n",
    "count_of_2 = my_list.count(2)\n",
    "\n",
    "print(\"Occurrences of element 2:\", count_of_2)"
   ]
  },
  {
   "cell_type": "raw",
   "id": "069c1cc3-9d8e-4f96-9aef-7625cbd3ef52",
   "metadata": {},
   "source": [
    "Solution 10"
   ]
  },
  {
   "cell_type": "code",
   "execution_count": 13,
   "id": "e4927f4a-54c0-45b9-9162-497ff075ecc8",
   "metadata": {},
   "outputs": [
    {
     "name": "stdout",
     "output_type": "stream",
     "text": [
      "[5, 4, 3, 2, 1]\n"
     ]
    }
   ],
   "source": [
    "my_list = [1, 2, 3, 4, 5]\n",
    "\n",
    "\n",
    "my_list.reverse()\n",
    "\n",
    "print(my_list)"
   ]
  },
  {
   "cell_type": "raw",
   "id": "86881fea-b687-48c0-8c98-b765b0866040",
   "metadata": {},
   "source": [
    "Solution 11"
   ]
  },
  {
   "cell_type": "code",
   "execution_count": 15,
   "id": "ea6fa6a8-3bb2-48ee-a67a-2324a586852e",
   "metadata": {},
   "outputs": [
    {
     "name": "stdout",
     "output_type": "stream",
     "text": [
      "[1, 1, 2, 3, 4, 5, 9]\n"
     ]
    }
   ],
   "source": [
    "my_list = [3, 1, 4, 1, 5, 9, 2]\n",
    "\n",
    "\n",
    "my_list.sort()\n",
    "\n",
    "print(my_list)"
   ]
  },
  {
   "cell_type": "raw",
   "id": "9473ee3d-2e05-430a-9109-8ab7054262de",
   "metadata": {},
   "source": [
    "Solution 12"
   ]
  },
  {
   "cell_type": "code",
   "execution_count": 17,
   "id": "ec9e0086-7518-4c32-9e43-c95668c90f2f",
   "metadata": {},
   "outputs": [
    {
     "name": "stdout",
     "output_type": "stream",
     "text": [
      "[9, 5, 4, 3, 2, 1, 1]\n"
     ]
    }
   ],
   "source": [
    "my_list = [3, 1, 4, 1, 5, 9, 2]\n",
    "\n",
    "\n",
    "my_list.sort(reverse=True)\n",
    "\n",
    "print(my_list)"
   ]
  },
  {
   "cell_type": "raw",
   "id": "be651d54-6ffe-4f3e-84bf-fec5340cc4a3",
   "metadata": {},
   "source": [
    "Solution 13"
   ]
  },
  {
   "cell_type": "code",
   "execution_count": 19,
   "id": "bb943aa3-b8b1-48e2-8804-12803fbfa63a",
   "metadata": {},
   "outputs": [
    {
     "name": "stdout",
     "output_type": "stream",
     "text": [
      "Sum of even numbers from 1 to 20: 110\n"
     ]
    }
   ],
   "source": [
    "even_sum = sum(range(2, 21, 2))\n",
    "print(\"Sum of even numbers from 1 to 20:\", even_sum)"
   ]
  },
  {
   "cell_type": "raw",
   "id": "444e144b-a3e7-43fa-875c-e4e76470cce8",
   "metadata": {},
   "source": [
    "Solution 14"
   ]
  },
  {
   "cell_type": "code",
   "execution_count": 21,
   "id": "2035e25f-9afd-45ce-aced-6b050e3f2a94",
   "metadata": {},
   "outputs": [
    {
     "name": "stdout",
     "output_type": "stream",
     "text": [
      "List of odd numbers from 1 to 20: [1, 3, 5, 7, 9, 11, 13, 15, 17, 19]\n"
     ]
    }
   ],
   "source": [
    "odd_numbers = list(range(1, 21, 2))\n",
    "print(\"List of odd numbers from 1 to 20:\", odd_numbers)\n"
   ]
  },
  {
   "cell_type": "raw",
   "id": "5cd3ff79-1187-40d6-ac58-cc97c6db3b0d",
   "metadata": {},
   "source": [
    "Solution 15"
   ]
  },
  {
   "cell_type": "code",
   "execution_count": 23,
   "id": "d32369df-1189-468c-b085-8624340b116b",
   "metadata": {},
   "outputs": [
    {
     "name": "stdout",
     "output_type": "stream",
     "text": [
      "Sum of elements: 15\n"
     ]
    }
   ],
   "source": [
    "my_list = [1, 2, 3, 4, 5]\n",
    "sum_of_elements = sum(my_list)\n",
    "print(\"Sum of elements:\", sum_of_elements)"
   ]
  },
  {
   "cell_type": "raw",
   "id": "74cd85be-b6e8-493a-80db-5499f51e35fc",
   "metadata": {},
   "source": [
    "Solution 16"
   ]
  },
  {
   "cell_type": "code",
   "execution_count": 25,
   "id": "672d5ec6-077c-43a8-8506-33951737774a",
   "metadata": {},
   "outputs": [
    {
     "name": "stdout",
     "output_type": "stream",
     "text": [
      "Maximum value: 9\n"
     ]
    }
   ],
   "source": [
    "my_list = [4, 7, 1, 9, 3, 6]\n",
    "max_value = max(my_list)\n",
    "print(\"Maximum value:\", max_value)"
   ]
  },
  {
   "cell_type": "raw",
   "id": "6793eeb8-95c3-4e2a-9e56-efdbe2c1530a",
   "metadata": {},
   "source": [
    "Solution 17"
   ]
  },
  {
   "cell_type": "code",
   "execution_count": 27,
   "id": "bb59277c-28d3-4ea4-90c6-0c64f33a2f94",
   "metadata": {},
   "outputs": [
    {
     "name": "stdout",
     "output_type": "stream",
     "text": [
      "Minimum value: 1\n"
     ]
    }
   ],
   "source": [
    "my_list = [4, 7, 1, 9, 3, 6]\n",
    "min_value = min(my_list)\n",
    "print(\"Minimum value:\", min_value)"
   ]
  },
  {
   "cell_type": "raw",
   "id": "16d946b0-6117-4350-8cd6-b0975d1ac5e0",
   "metadata": {},
   "source": [
    "Solution 18"
   ]
  },
  {
   "cell_type": "code",
   "execution_count": 29,
   "id": "566fcb6b-ccee-49a5-b508-6daf45e6c9c3",
   "metadata": {},
   "outputs": [
    {
     "name": "stdout",
     "output_type": "stream",
     "text": [
      "[1, 4, 9, 16, 25, 36, 49, 64, 81, 100]\n"
     ]
    }
   ],
   "source": [
    "squares = [x ** 2 for x in range(1, 11)]\n",
    "print(squares)"
   ]
  },
  {
   "cell_type": "raw",
   "id": "68602197-96e5-4853-80d8-2b3350c17159",
   "metadata": {},
   "source": [
    "Solution 19"
   ]
  },
  {
   "cell_type": "code",
   "execution_count": 31,
   "id": "bf9be268-57bf-42b3-888e-30e1b7939568",
   "metadata": {},
   "outputs": [
    {
     "name": "stdout",
     "output_type": "stream",
     "text": [
      "[46, 9, 47, 85, 37]\n"
     ]
    }
   ],
   "source": [
    "import random\n",
    "random_numbers = [random.randint(1, 100) for _ in range(5)]\n",
    "print(random_numbers)"
   ]
  },
  {
   "cell_type": "raw",
   "id": "11ab1da2-e658-4ce6-ac91-b19535247470",
   "metadata": {},
   "source": [
    "Solution 20"
   ]
  },
  {
   "cell_type": "code",
   "execution_count": 33,
   "id": "5ce36824-a41c-4e3c-ac7d-8cb4b2958bd1",
   "metadata": {},
   "outputs": [
    {
     "name": "stdout",
     "output_type": "stream",
     "text": [
      "Original List: [1, 2, 3, 2, 4, 5, 6, 1]\n",
      "List with Duplicates Removed: [1, 2, 3, 4, 5, 6]\n"
     ]
    }
   ],
   "source": [
    "my_list = [1, 2, 3, 2, 4, 5, 6, 1]\n",
    "unique_list = list(set(my_list))\n",
    "print(\"Original List:\", my_list)\n",
    "print(\"List with Duplicates Removed:\", unique_list)"
   ]
  },
  {
   "cell_type": "raw",
   "id": "701dc940-ae0a-4337-9872-6c8ee1baeb9a",
   "metadata": {},
   "source": [
    "Solution 21"
   ]
  },
  {
   "cell_type": "code",
   "execution_count": 35,
   "id": "4ae08330-a908-475e-b244-36aeeae7d2fc",
   "metadata": {},
   "outputs": [
    {
     "name": "stdout",
     "output_type": "stream",
     "text": [
      "Common Elements: [3, 4, 5]\n"
     ]
    }
   ],
   "source": [
    "list1 = [1, 2, 3, 4, 5]\n",
    "list2 = [3, 4, 5, 6, 7]\n",
    "common_elements = list(set(list1) & set(list2))\n",
    "print(\"Common Elements:\", common_elements)"
   ]
  },
  {
   "cell_type": "raw",
   "id": "42f90a8d-b90f-4823-a0cc-7639c536b634",
   "metadata": {},
   "source": [
    "Solution 22"
   ]
  },
  {
   "cell_type": "code",
   "execution_count": 37,
   "id": "5412cb2f-1fdc-425b-a9ce-8afd8b681c7d",
   "metadata": {},
   "outputs": [
    {
     "name": "stdout",
     "output_type": "stream",
     "text": [
      "Difference between lists: [1, 2]\n"
     ]
    }
   ],
   "source": [
    "list1 = [1, 2, 3, 4, 5]\n",
    "list2 = [3, 4, 5, 6, 7]\n",
    "difference = list(set(list1) - set(list2))\n",
    "print(\"Difference between lists:\", difference)"
   ]
  },
  {
   "cell_type": "raw",
   "id": "94ede2cf-9a66-40c6-8aa8-15bf375f92a6",
   "metadata": {},
   "source": [
    "Solution 23"
   ]
  },
  {
   "cell_type": "code",
   "execution_count": 39,
   "id": "52a1c0e5-4bbe-4167-a75c-fa4862ed98b4",
   "metadata": {},
   "outputs": [
    {
     "name": "stdout",
     "output_type": "stream",
     "text": [
      "Merged List: [1, 2, 3, 4, 5, 6]\n"
     ]
    }
   ],
   "source": [
    "list1 = [1, 2, 3]\n",
    "list2 = [4, 5, 6]\n",
    "merged_list = list1 + list2\n",
    "print(\"Merged List:\", merged_list)"
   ]
  },
  {
   "cell_type": "raw",
   "id": "9a3484f2-296e-4544-85a1-740d4555bd55",
   "metadata": {},
   "source": [
    "Solution 24"
   ]
  },
  {
   "cell_type": "code",
   "execution_count": 41,
   "id": "f12d75c7-12ce-4a86-a3e3-2be93cc15076",
   "metadata": {},
   "outputs": [
    {
     "name": "stdout",
     "output_type": "stream",
     "text": [
      "List with Elements Multiplied by 2 : [2, 6, 8, 10]\n"
     ]
    }
   ],
   "source": [
    "original_list = [1, 3, 4, 5]\n",
    "for i in range(len(original_list)):\n",
    "    original_list[i] *= 2\n",
    "print(\"List with Elements Multiplied by 2 :\", original_list)"
   ]
  },
  {
   "cell_type": "raw",
   "id": "7c4c6f15-3941-47d7-bfac-98076ff9a319",
   "metadata": {},
   "source": [
    "Solution 25"
   ]
  },
  {
   "cell_type": "code",
   "execution_count": 44,
   "id": "430ca631-ce0d-41ce-9bfe-580e865a4d97",
   "metadata": {},
   "outputs": [
    {
     "name": "stdout",
     "output_type": "stream",
     "text": [
      "Original List: [1, 2, 3, 4, 5, 6, 7, 8, 9, 10]\n",
      "List with Even Numbers Filtered Out: [1, 3, 5, 7, 9]\n"
     ]
    }
   ],
   "source": [
    "original_list = [1, 2, 3, 4, 5, 6, 7, 8, 9, 10]\n",
    "filtered_list = [x for x in original_list if x % 2 != 0]\n",
    "print(\"Original List:\", original_list)\n",
    "print(\"List with Even Numbers Filtered Out:\", filtered_list)"
   ]
  },
  {
   "cell_type": "raw",
   "id": "f33ef544-8ec2-4d49-9348-51f5b685bac8",
   "metadata": {},
   "source": [
    "Solution 26"
   ]
  },
  {
   "cell_type": "code",
   "execution_count": 46,
   "id": "2104abca-7ec3-4a38-8d06-0a1ee5a4c68f",
   "metadata": {},
   "outputs": [
    {
     "name": "stdout",
     "output_type": "stream",
     "text": [
      "[1, 2, 3, 4, 5]\n"
     ]
    }
   ],
   "source": [
    "string_list = [\"1\", \"2\", \"3\", \"4\", \"5\"]\n",
    "integer_list = [int(x) for x in string_list]\n",
    "print(integer_list)"
   ]
  },
  {
   "cell_type": "raw",
   "id": "ed14b3b1-cf82-422a-bd73-3785438cbf82",
   "metadata": {},
   "source": [
    "Solution 27"
   ]
  },
  {
   "cell_type": "code",
   "execution_count": 48,
   "id": "0a604bad-214c-4504-9957-178a634486c9",
   "metadata": {},
   "outputs": [
    {
     "name": "stdout",
     "output_type": "stream",
     "text": [
      "Original List of Strings: ['10', '20', '30', '40', '50']\n",
      "List of Integers: [10, 20, 30, 40, 50]\n"
     ]
    }
   ],
   "source": [
    "string_list = [\"10\", \"20\", \"30\", \"40\", \"50\"]\n",
    "integer_list = [int(x) for x in string_list]\n",
    "print(\"Original List of Strings:\", string_list)\n",
    "print(\"List of Integers:\", integer_list)"
   ]
  },
  {
   "cell_type": "raw",
   "id": "74b6d433-53ec-4f54-8ef1-e693614487ad",
   "metadata": {},
   "source": [
    "Solution 28"
   ]
  },
  {
   "cell_type": "code",
   "execution_count": 50,
   "id": "f711220a-e3bc-4c64-ad9e-34108b0b8575",
   "metadata": {},
   "outputs": [
    {
     "name": "stdout",
     "output_type": "stream",
     "text": [
      "[1, 2, 3, 4, 5, 6, 7, 8, 9]\n"
     ]
    }
   ],
   "source": [
    "nested_list = [[1, 2, 3], [4, 5, 6], [7, 8, 9]]\n",
    "flattened_list = [item for sublist in nested_list for item in sublist]\n",
    "print(flattened_list)"
   ]
  },
  {
   "cell_type": "raw",
   "id": "abb35029-0ecf-4133-99ad-acec6f957aa6",
   "metadata": {},
   "source": [
    "Solution 29"
   ]
  },
  {
   "cell_type": "code",
   "execution_count": 52,
   "id": "884df4eb-6ef6-4e4a-bf21-222e5dbf779e",
   "metadata": {},
   "outputs": [
    {
     "name": "stdout",
     "output_type": "stream",
     "text": [
      "[1, 2, 3, 4, 5, 6, 7, 8, 9, 10]\n"
     ]
    }
   ],
   "source": [
    "a, b = 0, 1\n",
    "fibonacci_list = [a := a + b for _ in range(10)]\n",
    "print(fibonacci_list)"
   ]
  },
  {
   "cell_type": "raw",
   "id": "087adaa0-7792-4bf8-bf80-6bfcabb56955",
   "metadata": {},
   "source": [
    "Solution 30"
   ]
  },
  {
   "cell_type": "code",
   "execution_count": 54,
   "id": "aacbc49e-28e9-48e0-b383-cfe6a69facb3",
   "metadata": {},
   "outputs": [
    {
     "name": "stdout",
     "output_type": "stream",
     "text": [
      "Is sorted: True\n",
      "Is sorted: False\n"
     ]
    }
   ],
   "source": [
    "def is_sorted(lst):\n",
    "    return lst == sorted(lst)\n",
    "sorted_list = [1, 2, 3, 4, 5]\n",
    "unsorted_list = [3, 1, 4, 1, 5, 9, 2, 6, 5]\n",
    "print(\"Is sorted:\", is_sorted(sorted_list))\n",
    "print(\"Is sorted:\", is_sorted(unsorted_list))"
   ]
  },
  {
   "cell_type": "raw",
   "id": "dc4bf87a-c659-479c-81da-a941e96ebb64",
   "metadata": {},
   "source": [
    "Solution 31"
   ]
  },
  {
   "cell_type": "code",
   "execution_count": 56,
   "id": "ac43157e-ec21-4f13-9e4e-4fbb87647eeb",
   "metadata": {},
   "outputs": [
    {
     "name": "stdout",
     "output_type": "stream",
     "text": [
      "[3, 4, 5, 1, 2]\n"
     ]
    }
   ],
   "source": [
    "def rotate_left(lst, n):\n",
    "    return lst[n % len(lst):] + lst[:n % len(lst)]\n",
    "my_list = [1, 2, 3, 4, 5]\n",
    "rotated_list = rotate_left(my_list, 2)\n",
    "print(rotated_list)"
   ]
  },
  {
   "cell_type": "raw",
   "id": "ab5195c7-99c0-496d-a8a3-7af6d152619a",
   "metadata": {},
   "source": [
    "Solution 32"
   ]
  },
  {
   "cell_type": "code",
   "execution_count": 58,
   "id": "79a388f2-0779-4a77-a96f-cd2480897ed2",
   "metadata": {},
   "outputs": [
    {
     "name": "stdout",
     "output_type": "stream",
     "text": [
      "[4, 5, 1, 2, 3]\n"
     ]
    }
   ],
   "source": [
    "def rotate_right(lst, n):\n",
    "    n = n % len(lst)  \n",
    "    return lst[-n:] + lst[:-n]\n",
    "my_list = [1, 2, 3, 4, 5]\n",
    "rotated_list = rotate_right(my_list, 2)\n",
    "print(rotated_list)"
   ]
  },
  {
   "cell_type": "raw",
   "id": "0f098e3f-eb5e-4359-8e79-cd37f9f374ea",
   "metadata": {},
   "source": [
    "Solution 33"
   ]
  },
  {
   "cell_type": "code",
   "execution_count": 60,
   "id": "11c7181f-f39d-4f1a-91e8-98d822955aa3",
   "metadata": {},
   "outputs": [
    {
     "name": "stdout",
     "output_type": "stream",
     "text": [
      "[2, 3, 5, 7, 11, 13, 17, 19, 23, 29, 31, 37, 41, 43, 47]\n"
     ]
    }
   ],
   "source": [
    "def is_prime(num):\n",
    "    if num < 2:\n",
    "        return False\n",
    "    for i in range(2, int(num**0.5) + 1):\n",
    "        if num % i == 0:\n",
    "            return False\n",
    "    return True\n",
    "prime_numbers = [num for num in range(2, 51) if is_prime(num)]\n",
    "print(prime_numbers)"
   ]
  },
  {
   "cell_type": "raw",
   "id": "08e5d234-7d4b-46d6-8674-700e3cc791c4",
   "metadata": {},
   "source": [
    "Solution 34"
   ]
  },
  {
   "cell_type": "code",
   "execution_count": null,
   "id": "7a0022be-57af-4c26-a7c1-7242513e9bce",
   "metadata": {},
   "outputs": [],
   "source": [
    "def chunk_list(lst, n):\n",
    "    return list(iter(lambda: lst[:n], []))\n",
    "my_list = [1, 2, 3, 4, 5, 6, 7, 8, 9]\n",
    "chunked_list = chunk_list(my_list, 3)\n",
    "print(chunked_list)\n"
   ]
  },
  {
   "cell_type": "raw",
   "id": "b87da7b6-b60a-40dc-b9d5-ab08d701cb9b",
   "metadata": {},
   "source": [
    "Solution 35"
   ]
  },
  {
   "cell_type": "code",
   "execution_count": 1,
   "id": "a60ca61b-51d8-47b8-9632-f6498de7d52b",
   "metadata": {},
   "outputs": [
    {
     "name": "stdout",
     "output_type": "stream",
     "text": [
      "Second Largest: 8\n"
     ]
    }
   ],
   "source": [
    "def second_largest(lst):\n",
    "    sorted_list = sorted(lst)\n",
    "    if len(sorted_list) >= 2:\n",
    "        return sorted_list[-2]\n",
    "    else:\n",
    "        return None\n",
    "\n",
    "my_list = [5, 2, 8, 1, 9, 3, 7]\n",
    "result = second_largest(my_list)\n",
    "print(\"Second Largest:\", result)"
   ]
  },
  {
   "cell_type": "raw",
   "id": "aadcec21-4723-4304-830b-6fd3dc88c33d",
   "metadata": {},
   "source": [
    "Solution 36"
   ]
  },
  {
   "cell_type": "code",
   "execution_count": 3,
   "id": "5ea23964-2d43-45f8-8c37-0abe8e5a3baa",
   "metadata": {},
   "outputs": [
    {
     "name": "stdout",
     "output_type": "stream",
     "text": [
      "[1, 4, 9, 16, 25]\n"
     ]
    }
   ],
   "source": [
    "original_list = [1, 2, 3, 4, 5]\n",
    "squared_list = [x**2 for x in original_list]\n",
    "print(squared_list)"
   ]
  },
  {
   "cell_type": "raw",
   "id": "7279a688-df42-4bda-b941-03b7916d1c3f",
   "metadata": {},
   "source": [
    "Solution 37"
   ]
  },
  {
   "cell_type": "code",
   "execution_count": 5,
   "id": "92d5b10b-8daf-4d12-a6da-4d3cc1a3efab",
   "metadata": {},
   "outputs": [
    {
     "name": "stdout",
     "output_type": "stream",
     "text": [
      "{'apple': 0, 'banana': 1, 'orange': 2, 'grape': 3}\n"
     ]
    }
   ],
   "source": [
    "my_list = ['apple', 'banana', 'orange', 'grape']\n",
    "my_dict = {value: index for index, value in enumerate(my_list)}\n",
    "print(my_dict)"
   ]
  },
  {
   "cell_type": "raw",
   "id": "bb712190-417f-4eb4-9a7c-f634eeefabea",
   "metadata": {},
   "source": [
    "Solution 38"
   ]
  },
  {
   "cell_type": "code",
   "execution_count": 7,
   "id": "19c64e46-2eb2-4870-a6f9-7cfe02b1833d",
   "metadata": {},
   "outputs": [
    {
     "name": "stdout",
     "output_type": "stream",
     "text": [
      "[3, 5, 2, 1, 4]\n"
     ]
    }
   ],
   "source": [
    "import random\n",
    "my_list = [1, 2, 3, 4, 5]\n",
    "random.shuffle(my_list)\n",
    "print(my_list)"
   ]
  },
  {
   "cell_type": "raw",
   "id": "13fed8f8-1bd4-42e3-8321-272076251741",
   "metadata": {},
   "source": [
    "Solution 39"
   ]
  },
  {
   "cell_type": "code",
   "execution_count": 9,
   "id": "baef9000-459e-4815-a1f9-24b90f5ff34a",
   "metadata": {},
   "outputs": [
    {
     "name": "stdout",
     "output_type": "stream",
     "text": [
      "[1, 2, 6, 24, 120, 720, 5040, 40320, 362880, 3628800]\n"
     ]
    }
   ],
   "source": [
    "import math\n",
    "factorial_numbers = [math.factorial(i) for i in range(1, 11)]\n",
    "print(factorial_numbers)"
   ]
  },
  {
   "cell_type": "raw",
   "id": "87a65529-82e2-4337-9a32-88a188717358",
   "metadata": {},
   "source": [
    "Solution 40"
   ]
  },
  {
   "cell_type": "code",
   "execution_count": 11,
   "id": "187796f7-631a-45bc-86a7-6713b9ad8b7b",
   "metadata": {},
   "outputs": [
    {
     "name": "stdout",
     "output_type": "stream",
     "text": [
      "The lists have at least one common element.\n"
     ]
    }
   ],
   "source": [
    "list1 = [1, 2, 3, 4, 5]\n",
    "list2 = [5, 6, 7, 8, 9]\n",
    "common_elements_exist = bool(set(list1) & set(list2))\n",
    "if common_elements_exist:\n",
    "    print(\"The lists have at least one common element.\")\n",
    "else:\n",
    "    print(\"The lists do not have any common elements.\")"
   ]
  },
  {
   "cell_type": "raw",
   "id": "dd6a90c4-2b82-46e4-bd07-c62c73adb857",
   "metadata": {},
   "source": [
    "Solution 41"
   ]
  },
  {
   "cell_type": "code",
   "execution_count": 13,
   "id": "730073f6-d5bd-43c5-a3bf-e7a6c1e59d2f",
   "metadata": {},
   "outputs": [
    {
     "name": "stdout",
     "output_type": "stream",
     "text": [
      "[]\n"
     ]
    }
   ],
   "source": [
    "my_list = [1, 2, 3, 4, 5]\n",
    "my_list.clear()\n",
    "print(my_list)"
   ]
  },
  {
   "cell_type": "raw",
   "id": "3fe9ff48-ca92-47fe-ac53-5e260756752d",
   "metadata": {},
   "source": [
    "Solution 42"
   ]
  },
  {
   "cell_type": "code",
   "execution_count": 15,
   "id": "edc8e70b-36cc-474a-a982-5bc2c3d83586",
   "metadata": {},
   "outputs": [
    {
     "name": "stdout",
     "output_type": "stream",
     "text": [
      "[1, 0, 3, 0, 5, 0]\n"
     ]
    }
   ],
   "source": [
    "original_list = [1, -2, 3, -4, 5, -6]\n",
    "modified_list = [max(0, x) for x in original_list]\n",
    "print(modified_list)"
   ]
  },
  {
   "cell_type": "raw",
   "id": "cdb865d9-5973-487b-bbcd-ca5fff045f05",
   "metadata": {},
   "source": [
    "Solution 43"
   ]
  },
  {
   "cell_type": "code",
   "execution_count": 17,
   "id": "eb5d8ca2-67ca-49ea-99cc-00e5b3550495",
   "metadata": {},
   "outputs": [
    {
     "name": "stdout",
     "output_type": "stream",
     "text": [
      "['This', 'is', 'a', 'best', 'online', 'education', 'platform.']\n"
     ]
    }
   ],
   "source": [
    "sentence = \"This is a best online education platform.\"\n",
    "word_list = sentence.split()\n",
    "print(word_list)"
   ]
  },
  {
   "cell_type": "raw",
   "id": "56f98d43-ee34-4849-bad9-00978e1067b4",
   "metadata": {},
   "source": [
    "Solution 44"
   ]
  },
  {
   "cell_type": "code",
   "execution_count": 20,
   "id": "dd1f8a68-50bf-4e61-8a04-9b2c4569156c",
   "metadata": {},
   "outputs": [
    {
     "name": "stdout",
     "output_type": "stream",
     "text": [
      "This is an online platform.\n"
     ]
    }
   ],
   "source": [
    "word_list = ['This', 'is', 'an', 'online', 'platform.']\n",
    "sentence = ' '.join(word_list)\n",
    "print(sentence)"
   ]
  },
  {
   "cell_type": "raw",
   "id": "a513a4db-69e4-4f11-9283-3f8e592bf087",
   "metadata": {},
   "source": [
    "Solution 45"
   ]
  },
  {
   "cell_type": "code",
   "execution_count": 22,
   "id": "2aff9853-d952-40e2-9826-e45e3ad8b698",
   "metadata": {},
   "outputs": [
    {
     "name": "stdout",
     "output_type": "stream",
     "text": [
      "[1, 2, 4, 8, 16]\n"
     ]
    }
   ],
   "source": [
    "n = 5  \n",
    "powers_of_2 = [2 ** i for i in range(n)]\n",
    "print(powers_of_2)"
   ]
  },
  {
   "cell_type": "raw",
   "id": "75fc8f70-d2dd-49f3-9223-4d145622390f",
   "metadata": {},
   "source": [
    "Solution 46"
   ]
  },
  {
   "cell_type": "code",
   "execution_count": 24,
   "id": "08d335bf-2ca1-4951-b7f3-ea57dde29787",
   "metadata": {},
   "outputs": [
    {
     "name": "stdout",
     "output_type": "stream",
     "text": [
      "strawberry\n"
     ]
    }
   ],
   "source": [
    "string_list = ['apple', 'banana', 'kiwi', 'orange', 'strawberry']\n",
    "longest_string = max(string_list, key=len)\n",
    "print(longest_string)"
   ]
  },
  {
   "cell_type": "raw",
   "id": "d8ffde05-5490-4354-bbd9-cdd0a4db3d43",
   "metadata": {},
   "source": [
    "Solution 47"
   ]
  },
  {
   "cell_type": "code",
   "execution_count": 26,
   "id": "43dca789-2dbe-493f-9b7e-3c5e1ccd9fe0",
   "metadata": {},
   "outputs": [
    {
     "name": "stdout",
     "output_type": "stream",
     "text": [
      "kiwi\n"
     ]
    }
   ],
   "source": [
    "string_list = ['apple', 'banana', 'kiwi', 'orange', 'strawberry']\n",
    "shortest_string = min(string_list, key=len)\n",
    "print(shortest_string)"
   ]
  },
  {
   "cell_type": "raw",
   "id": "1b038759-2507-4550-bde4-6f75ac13da7b",
   "metadata": {},
   "source": [
    "Solution 48"
   ]
  },
  {
   "cell_type": "code",
   "execution_count": 28,
   "id": "36a125af-1cb6-420d-974a-7f682fd7b404",
   "metadata": {},
   "outputs": [
    {
     "name": "stdout",
     "output_type": "stream",
     "text": [
      "The first 5 triangular numbers are: [1, 3, 6, 10, 15]\n"
     ]
    }
   ],
   "source": [
    "def generate_triangular_numbers(n):\n",
    "    return [i * (i + 1) // 2 for i in range(1, n + 1)]\n",
    "n = 5\n",
    "triangular_numbers_list = generate_triangular_numbers(n)\n",
    "print(f\"The first {n} triangular numbers are: {triangular_numbers_list}\")"
   ]
  },
  {
   "cell_type": "raw",
   "id": "e964131d-37c0-4e4e-9090-c0e81af0ac2f",
   "metadata": {},
   "source": [
    "Solution 49"
   ]
  },
  {
   "cell_type": "code",
   "execution_count": 30,
   "id": "bc3747cf-a977-42af-8195-8ecf24f412f9",
   "metadata": {},
   "outputs": [
    {
     "name": "stdout",
     "output_type": "stream",
     "text": [
      "[3, 5, 7] is a subsequence of [1, 2, 3, 4, 5, 6, 7, 8].\n"
     ]
    }
   ],
   "source": [
    "def is_subsequence(subseq, seq):\n",
    "    it = iter(seq)\n",
    "    return all(item in it for item in subseq)\n",
    "sequence = [1, 2, 3, 4, 5, 6, 7, 8]\n",
    "subsequence = [3, 5, 7]\n",
    "result = is_subsequence(subsequence, sequence)\n",
    "if result:\n",
    "    print(f\"{subsequence} is a subsequence of {sequence}.\")\n",
    "else:\n",
    "    print(f\"{subsequence} is not a subsequence of {sequence}.\")"
   ]
  },
  {
   "cell_type": "raw",
   "id": "f439a06a-aeac-44ae-961d-c8131e44eaff",
   "metadata": {},
   "source": [
    "Solution 50"
   ]
  },
  {
   "cell_type": "code",
   "execution_count": 32,
   "id": "6da94168-a42c-46a1-bbb0-8eb3bf22e0f9",
   "metadata": {},
   "outputs": [
    {
     "name": "stdout",
     "output_type": "stream",
     "text": [
      "List after swapping elements: [1, 4, 3, 2, 5]\n"
     ]
    }
   ],
   "source": [
    "def swap_elements_by_indices(lst, index1, index2):\n",
    "    lst[index1], lst[index2] = lst[index2], lst[index1]\n",
    "my_list = [1, 2, 3, 4, 5]\n",
    "swap_elements_by_indices(my_list, 1, 3)\n",
    "print(\"List after swapping elements:\", my_list)\n"
   ]
  },
  {
   "cell_type": "code",
   "execution_count": null,
   "id": "47361c90-16ba-46f6-9d24-c7ac72fde423",
   "metadata": {},
   "outputs": [],
   "source": []
  },
  {
   "cell_type": "raw",
   "id": "02ca4b84-21a5-45da-9c19-c76974455a61",
   "metadata": {},
   "source": [
    "TUPLE BASED PROBLEM"
   ]
  },
  {
   "cell_type": "raw",
   "id": "4591c951-7127-464a-9202-9be343ef8a74",
   "metadata": {},
   "source": [
    "Solution 1"
   ]
  },
  {
   "cell_type": "code",
   "execution_count": 39,
   "id": "bd295ac3-6ba4-4a9a-abcf-db838b0396e3",
   "metadata": {},
   "outputs": [
    {
     "name": "stdout",
     "output_type": "stream",
     "text": [
      "(1, 2, 3, 4, 5)\n"
     ]
    }
   ],
   "source": [
    "my_tuple = (1, 2, 3, 4, 5)\n",
    "print(my_tuple)\n"
   ]
  },
  {
   "cell_type": "raw",
   "id": "3ddd48fa-9fe6-4c31-b8b8-fcad23627e1f",
   "metadata": {},
   "source": [
    "Solution 2"
   ]
  },
  {
   "cell_type": "code",
   "execution_count": 41,
   "id": "2f3811bc-ba37-4add-a37a-41424387bda8",
   "metadata": {},
   "outputs": [
    {
     "name": "stdout",
     "output_type": "stream",
     "text": [
      "3\n"
     ]
    }
   ],
   "source": [
    "my_tuple = (1, 2, 3, 4, 5)\n",
    "third_element = my_tuple[2]\n",
    "print(third_element)"
   ]
  },
  {
   "cell_type": "raw",
   "id": "586696db-d13d-40d3-8f81-194ce83fbad1",
   "metadata": {},
   "source": [
    "Solution 3"
   ]
  },
  {
   "cell_type": "code",
   "execution_count": 43,
   "id": "bf4d4ff2-5f94-4109-bb39-03d1cb4101a1",
   "metadata": {},
   "outputs": [
    {
     "name": "stdout",
     "output_type": "stream",
     "text": [
      "5\n"
     ]
    }
   ],
   "source": [
    "my_tuple = (1, 2, 3, 4, 5)\n",
    "tuple_length = 0\n",
    "for _ in my_tuple:\n",
    "    tuple_length += 1\n",
    "print(tuple_length)"
   ]
  },
  {
   "cell_type": "raw",
   "id": "09453947-4ce9-45d2-ac21-6022468a5fc3",
   "metadata": {},
   "source": [
    "Solution 4"
   ]
  },
  {
   "cell_type": "code",
   "execution_count": 45,
   "id": "fd9a4915-c5f9-454c-9033-1b83927517d5",
   "metadata": {},
   "outputs": [
    {
     "name": "stdout",
     "output_type": "stream",
     "text": [
      "The element 2 appears 3 times in the tuple.\n"
     ]
    }
   ],
   "source": [
    "my_tuple = (1, 2, 3, 4, 2, 5, 2)\n",
    "element_to_count = 2\n",
    "occurrences = my_tuple.count(element_to_count)\n",
    "print(f'The element {element_to_count} appears {occurrences} times in the tuple.')\n"
   ]
  },
  {
   "cell_type": "raw",
   "id": "4bac5a7f-4af3-4b3f-b2a6-4ee844b98d7f",
   "metadata": {},
   "source": [
    "Solution 5"
   ]
  },
  {
   "cell_type": "code",
   "execution_count": 47,
   "id": "acee885e-b44a-49f8-9649-0b940d31f512",
   "metadata": {},
   "outputs": [
    {
     "name": "stdout",
     "output_type": "stream",
     "text": [
      "The first occurrence of 2 is at index 1.\n"
     ]
    }
   ],
   "source": [
    "my_tuple = (1, 2, 3, 4, 2, 5, 2)\n",
    "element_to_find = 2\n",
    "index_of_element = my_tuple.index(element_to_find)\n",
    "print(f'The first occurrence of {element_to_find} is at index {index_of_element}.')"
   ]
  },
  {
   "cell_type": "raw",
   "id": "248ea9a5-524d-43e5-b2af-268e3bac7b5e",
   "metadata": {},
   "source": [
    "Solution 6"
   ]
  },
  {
   "cell_type": "code",
   "execution_count": 49,
   "id": "b77d56ac-73e7-4837-b027-73463c6c6683",
   "metadata": {},
   "outputs": [
    {
     "name": "stdout",
     "output_type": "stream",
     "text": [
      "The element 3 exists in the tuple.\n"
     ]
    }
   ],
   "source": [
    "my_tuple = (1, 2, 3, 4, 5)\n",
    "element_to_check = 3\n",
    "if element_to_check in my_tuple:\n",
    "    print(f'The element {element_to_check} exists in the tuple.')\n",
    "else:\n",
    "    print(f'The element {element_to_check} does not exist in the tuple.')\n"
   ]
  },
  {
   "cell_type": "raw",
   "id": "0c7202f2-451c-463f-accb-1bb0dc3c01a9",
   "metadata": {},
   "source": [
    "Solution 7"
   ]
  },
  {
   "cell_type": "code",
   "execution_count": 51,
   "id": "fa486edf-1b1a-4cc0-b8d6-ce5432142c18",
   "metadata": {},
   "outputs": [
    {
     "name": "stdout",
     "output_type": "stream",
     "text": [
      "[1, 2, 3, 4, 5]\n"
     ]
    }
   ],
   "source": [
    "my_tuple = (1, 2, 3, 4, 5)\n",
    "my_list = list(my_tuple)\n",
    "print(my_list)\n"
   ]
  },
  {
   "cell_type": "raw",
   "id": "ed172237-bd5e-4c37-a6ab-1faf2c9514ad",
   "metadata": {},
   "source": [
    "Solution 8"
   ]
  },
  {
   "cell_type": "code",
   "execution_count": 53,
   "id": "9e8c51a0-673b-4e98-aed8-ff53a5af344f",
   "metadata": {},
   "outputs": [
    {
     "name": "stdout",
     "output_type": "stream",
     "text": [
      "(1, 2, 3, 4, 5)\n"
     ]
    }
   ],
   "source": [
    "my_list = [1, 2, 3, 4, 5]\n",
    "my_tuple = tuple(my_list)\n",
    "print(my_tuple)\n"
   ]
  },
  {
   "cell_type": "raw",
   "id": "f36475be-27ba-4a78-8762-5c36bc2d468c",
   "metadata": {},
   "source": [
    "Solution 9"
   ]
  },
  {
   "cell_type": "code",
   "execution_count": 55,
   "id": "7eeae2de-c891-47a0-a711-acab0edfdd94",
   "metadata": {},
   "outputs": [
    {
     "name": "stdout",
     "output_type": "stream",
     "text": [
      "a: 1, b: 2, c: 3\n"
     ]
    }
   ],
   "source": [
    "my_tuple = (1, 2, 3)\n",
    "a, b, c = my_tuple\n",
    "print(f'a: {a}, b: {b}, c: {c}')\n"
   ]
  },
  {
   "cell_type": "raw",
   "id": "0425ae9e-77b9-479b-8bf1-5d6096c307bf",
   "metadata": {},
   "source": [
    "Solution 10"
   ]
  },
  {
   "cell_type": "code",
   "execution_count": 57,
   "id": "d3e7dd49-3afb-4acd-903a-3562895fcf79",
   "metadata": {},
   "outputs": [
    {
     "name": "stdout",
     "output_type": "stream",
     "text": [
      "(2, 4, 6, 8, 10)\n"
     ]
    }
   ],
   "source": [
    "even_numbers_tuple = tuple(x for x in range(2, 11, 2))\n",
    "print(even_numbers_tuple)\n"
   ]
  },
  {
   "cell_type": "raw",
   "id": "8165f91e-1ff8-4b9c-b0e2-f957687497ef",
   "metadata": {},
   "source": [
    "Solution 11"
   ]
  },
  {
   "cell_type": "code",
   "execution_count": 60,
   "id": "8040b32a-9566-4219-a3ab-9c31fc0f7de1",
   "metadata": {},
   "outputs": [
    {
     "name": "stdout",
     "output_type": "stream",
     "text": [
      "(1, 3, 5, 7, 9)\n"
     ]
    }
   ],
   "source": [
    "odd_numbers_tuple = tuple(x for x in range(1, 11, 2))\n",
    "print(odd_numbers_tuple)\n"
   ]
  },
  {
   "cell_type": "raw",
   "id": "03ff9346-d7a4-4e98-bc07-33e43d749e25",
   "metadata": {},
   "source": [
    "Solution 12"
   ]
  },
  {
   "cell_type": "code",
   "execution_count": 62,
   "id": "b1d1f4c1-912a-491d-aaf6-149350022215",
   "metadata": {},
   "outputs": [
    {
     "name": "stdout",
     "output_type": "stream",
     "text": [
      "(1, 2, 3, 4, 5, 6)\n"
     ]
    }
   ],
   "source": [
    "tuple1 = (1, 2, 3)\n",
    "tuple2 = (4, 5, 6)\n",
    "concatenated_tuple = tuple1 + tuple2\n",
    "print(concatenated_tuple)\n"
   ]
  },
  {
   "cell_type": "raw",
   "id": "64878242-c56b-42d9-be15-55a05028fa41",
   "metadata": {},
   "source": [
    "Solution 13"
   ]
  },
  {
   "cell_type": "code",
   "execution_count": 65,
   "id": "707ea634-647a-43c8-9b25-c4deb8d05dc0",
   "metadata": {},
   "outputs": [
    {
     "name": "stdout",
     "output_type": "stream",
     "text": [
      "(1, 2, 3, 1, 2, 3, 1, 2, 3)\n"
     ]
    }
   ],
   "source": [
    "my_tuple = (1, 2, 3)\n",
    "repeated_tuple = my_tuple * 3\n",
    "print(repeated_tuple)\n"
   ]
  },
  {
   "cell_type": "raw",
   "id": "4d1aef57-f1ec-40e5-b9d3-7b8c4cef23cc",
   "metadata": {},
   "source": [
    "Solution 14"
   ]
  },
  {
   "cell_type": "code",
   "execution_count": 68,
   "id": "9426b95a-07b8-4e65-a7de-3788cb2c528d",
   "metadata": {},
   "outputs": [
    {
     "name": "stdout",
     "output_type": "stream",
     "text": [
      "The tuple is empty.\n"
     ]
    }
   ],
   "source": [
    "my_empty_tuple = ()\n",
    "\n",
    "if not my_empty_tuple:\n",
    "    print(\"The tuple is empty.\")\n",
    "else:\n",
    "    print(\"The tuple is not empty.\")\n"
   ]
  },
  {
   "cell_type": "raw",
   "id": "8c8e5450-33ef-455f-94b2-1980e8e94f5f",
   "metadata": {},
   "source": [
    "Solution 15"
   ]
  },
  {
   "cell_type": "code",
   "execution_count": 71,
   "id": "ecccfe38-0ca8-4047-a6a1-c71a85be779e",
   "metadata": {},
   "outputs": [
    {
     "name": "stdout",
     "output_type": "stream",
     "text": [
      "((1, 2, 3), ('a', 'b', 'c'), (True, False))\n"
     ]
    }
   ],
   "source": [
    "nested_tuple = ((1, 2, 3), ('a', 'b', 'c'), (True, False))\n",
    "print(nested_tuple)\n"
   ]
  },
  {
   "cell_type": "raw",
   "id": "19a2dad9-76b1-4164-a7a7-5c71e9502352",
   "metadata": {},
   "source": [
    "Solution 16"
   ]
  },
  {
   "cell_type": "code",
   "execution_count": 73,
   "id": "98c0fdd6-b7d8-4526-bdaa-726765d2b9ee",
   "metadata": {},
   "outputs": [
    {
     "name": "stdout",
     "output_type": "stream",
     "text": [
      "1\n"
     ]
    }
   ],
   "source": [
    "nested_tuple = ((1, 2, 3), ('a', 'b', 'c'), (True, False))\n",
    "first_element = nested_tuple[0][0]\n",
    "print(first_element)\n"
   ]
  },
  {
   "cell_type": "raw",
   "id": "3af5d813-8925-4298-a89f-57f3d2c394d8",
   "metadata": {},
   "source": [
    "Solution 17"
   ]
  },
  {
   "cell_type": "code",
   "execution_count": 75,
   "id": "91bc1959-aacf-4199-bb46-b09f33d33f06",
   "metadata": {},
   "outputs": [
    {
     "name": "stdout",
     "output_type": "stream",
     "text": [
      "(42,)\n"
     ]
    }
   ],
   "source": [
    "single_element_tuple = (42,)\n",
    "print(single_element_tuple)\n"
   ]
  },
  {
   "cell_type": "raw",
   "id": "86aaff37-0539-498a-84fe-691925ad9653",
   "metadata": {},
   "source": [
    "Solution 18"
   ]
  },
  {
   "cell_type": "code",
   "execution_count": 77,
   "id": "b280e3fa-bed8-4c93-ad3b-34bb92fb411a",
   "metadata": {},
   "outputs": [
    {
     "name": "stdout",
     "output_type": "stream",
     "text": [
      "The tuples are not equal.\n"
     ]
    }
   ],
   "source": [
    "tuple1 = (1, 2, 3)\n",
    "tuple2 = (1, 2, 4)\n",
    "if tuple1 == tuple2:\n",
    "    print(\"The tuples are equal.\")\n",
    "else:\n",
    "    print(\"The tuples are not equal.\")\n"
   ]
  },
  {
   "cell_type": "raw",
   "id": "18868d80-9301-49f2-9078-7cf35ad14758",
   "metadata": {},
   "source": [
    "Solution 19"
   ]
  },
  {
   "cell_type": "code",
   "execution_count": 79,
   "id": "ceb13edd-1eb6-4595-a566-9585d39d9143",
   "metadata": {},
   "outputs": [
    {
     "name": "stdout",
     "output_type": "stream",
     "text": [
      "(1, 2, 4, 5)\n"
     ]
    }
   ],
   "source": [
    "original_tuple = (1, 2, 3, 4, 5)\n",
    "tuple_list = list(original_tuple)\n",
    "del tuple_list[2]\n",
    "new_tuple = tuple(tuple_list)\n",
    "print(new_tuple)\n"
   ]
  },
  {
   "cell_type": "raw",
   "id": "4a0037c7-1468-4962-b542-894a1a6328e5",
   "metadata": {},
   "source": [
    "Solution 20"
   ]
  },
  {
   "cell_type": "code",
   "execution_count": 81,
   "id": "7e2f6e78-281b-4fb5-aea6-3de10ac1c511",
   "metadata": {},
   "outputs": [
    {
     "name": "stdout",
     "output_type": "stream",
     "text": [
      "(3, 4, 5)\n"
     ]
    }
   ],
   "source": [
    "my_tuple = (1, 2, 3, 4, 5, 6, 7, 8, 9, 10)\n",
    "sliced_tuple = my_tuple[2:5]\n",
    "print(sliced_tuple)\n"
   ]
  },
  {
   "cell_type": "raw",
   "id": "e0cf45c9-1364-4ea9-9405-827fe8977ce1",
   "metadata": {},
   "source": [
    "Solution 21"
   ]
  },
  {
   "cell_type": "code",
   "execution_count": 83,
   "id": "fd650d34-319a-41cc-b240-950932478b00",
   "metadata": {},
   "outputs": [
    {
     "name": "stdout",
     "output_type": "stream",
     "text": [
      "The maximum value in the tuple is: 9\n"
     ]
    }
   ],
   "source": [
    "my_tuple = (4, 7, 1, 9, 3, 5)\n",
    "max_value = max(my_tuple)\n",
    "print(\"The maximum value in the tuple is:\", max_value)\n"
   ]
  },
  {
   "cell_type": "raw",
   "id": "f03fb146-9600-401b-b7eb-f2a9065e2d53",
   "metadata": {},
   "source": [
    "Solution 22"
   ]
  },
  {
   "cell_type": "code",
   "execution_count": 86,
   "id": "f3a1a936-325b-4bf9-b70d-5711bf6302a6",
   "metadata": {},
   "outputs": [
    {
     "name": "stdout",
     "output_type": "stream",
     "text": [
      "The minimum value in the tuple is: 1\n"
     ]
    }
   ],
   "source": [
    "my_tuple = (4, 7, 1, 9, 3, 5)\n",
    "min_value = min(my_tuple)\n",
    "print(\"The minimum value in the tuple is:\", min_value)\n"
   ]
  },
  {
   "cell_type": "raw",
   "id": "4a435e79-4162-4ea9-a7b1-f0f0ef50d285",
   "metadata": {},
   "source": [
    "Solution 23"
   ]
  },
  {
   "cell_type": "code",
   "execution_count": 89,
   "id": "3953fdce-8892-42c8-abfb-80e55acd4060",
   "metadata": {},
   "outputs": [
    {
     "name": "stdout",
     "output_type": "stream",
     "text": [
      "The minimum value in the tuple is: 1\n"
     ]
    }
   ],
   "source": [
    "my_tuple = (4, 7, 1, 9, 3, 5)\n",
    "minimum_value = min(my_tuple)\n",
    "print(\"The minimum value in the tuple is:\", minimum_value)\n"
   ]
  },
  {
   "cell_type": "raw",
   "id": "d5b6de08-b3ad-4ff7-a25e-d1381af1f218",
   "metadata": {},
   "source": [
    "Solution 24"
   ]
  },
  {
   "cell_type": "code",
   "execution_count": 91,
   "id": "8a515103-265a-49d5-851e-f1021947db77",
   "metadata": {},
   "outputs": [
    {
     "name": "stdout",
     "output_type": "stream",
     "text": [
      "Original string: Hello\n",
      "Tuple of characters: ('H', 'e', 'l', 'l', 'o')\n"
     ]
    }
   ],
   "source": [
    "my_string = \"Hello\"\n",
    "tuple_of_characters = tuple(my_string)\n",
    "print(\"Original string:\", my_string)\n",
    "print(\"Tuple of characters:\", tuple_of_characters)\n"
   ]
  },
  {
   "cell_type": "raw",
   "id": "6c5c9ee7-ffd7-414a-9564-f64f4aeea8e0",
   "metadata": {},
   "source": [
    "Solution 25"
   ]
  },
  {
   "cell_type": "code",
   "execution_count": 93,
   "id": "199cd06a-96a3-481e-a3a5-51775ed42d5b",
   "metadata": {},
   "outputs": [
    {
     "name": "stdout",
     "output_type": "stream",
     "text": [
      "Mixed Tuple: (1, 'hello', 3.14, True)\n"
     ]
    }
   ],
   "source": [
    "mixed_tuple = (1, \"hello\", 3.14, True)\n",
    "print(\"Mixed Tuple:\", mixed_tuple)\n"
   ]
  },
  {
   "cell_type": "raw",
   "id": "572f7012-716b-4950-9a39-7aed0a2c088a",
   "metadata": {},
   "source": [
    "Solution 26"
   ]
  },
  {
   "cell_type": "code",
   "execution_count": 95,
   "id": "085f05f5-c9be-460d-b12a-96bb52d98aa9",
   "metadata": {},
   "outputs": [
    {
     "name": "stdout",
     "output_type": "stream",
     "text": [
      "Tuples are identical\n"
     ]
    }
   ],
   "source": [
    "tuple1 = (1, 2, 3)\n",
    "tuple2 = (1, 2, 3)\n",
    "if tuple1 == tuple2:\n",
    "    print(\"Tuples are identical\")\n",
    "else:\n",
    "    print(\"Tuples are not identical\")\n"
   ]
  },
  {
   "cell_type": "raw",
   "id": "8ba3fcf3-6440-4d46-b9c5-a37682be3358",
   "metadata": {},
   "source": [
    "Solution 27"
   ]
  },
  {
   "cell_type": "code",
   "execution_count": 98,
   "id": "49f7515b-0537-4d0a-9dab-ce573ac8fe08",
   "metadata": {},
   "outputs": [
    {
     "name": "stdout",
     "output_type": "stream",
     "text": [
      "Original Tuple: (3, 1, 4, 1, 5, 9, 2, 6, 5, 3, 5)\n",
      "Sorted Tuple  : (1, 1, 2, 3, 3, 4, 5, 5, 5, 6, 9)\n"
     ]
    }
   ],
   "source": [
    "original_tuple = (3, 1, 4, 1, 5, 9, 2, 6, 5, 3, 5)\n",
    "sorted_tuple = tuple(sorted(original_tuple))\n",
    "print(\"Original Tuple:\", original_tuple)\n",
    "print(\"Sorted Tuple  :\", sorted_tuple)\n"
   ]
  },
  {
   "cell_type": "raw",
   "id": "83b6e33b-936c-4597-8764-664788ebe6f4",
   "metadata": {},
   "source": [
    "Solution 28"
   ]
  },
  {
   "cell_type": "code",
   "execution_count": 100,
   "id": "c35da641-ca17-4a8d-9d31-07803a858201",
   "metadata": {},
   "outputs": [
    {
     "name": "stdout",
     "output_type": "stream",
     "text": [
      "Original Tuple of Integers: (1, 2, 3, 4, 5)\n",
      "Tuple of Strings          : ('1', '2', '3', '4', '5')\n"
     ]
    }
   ],
   "source": [
    "tuple_of_integers = (1, 2, 3, 4, 5)\n",
    "tuple_of_strings = tuple(str(i) for i in tuple_of_integers)\n",
    "print(\"Original Tuple of Integers:\", tuple_of_integers)\n",
    "print(\"Tuple of Strings          :\", tuple_of_strings)\n"
   ]
  },
  {
   "cell_type": "raw",
   "id": "750722b9-4f73-4f8a-a7f3-2ccaa82038bf",
   "metadata": {},
   "source": [
    "Solution 29"
   ]
  },
  {
   "cell_type": "code",
   "execution_count": 102,
   "id": "c364b3a2-a342-4dfb-ba9b-13be32b44c5b",
   "metadata": {},
   "outputs": [
    {
     "name": "stdout",
     "output_type": "stream",
     "text": [
      "Original Tuple of Strings : ('1', '2', '3', '4', '5')\n",
      "Tuple of Integers          : (1, 2, 3, 4, 5)\n"
     ]
    }
   ],
   "source": [
    "\n",
    "tuple_of_strings = ('1', '2', '3', '4', '5')\n",
    "tuple_of_integers = tuple(map(int, tuple_of_strings))\n",
    "print(\"Original Tuple of Strings :\", tuple_of_strings)\n",
    "print(\"Tuple of Integers          :\", tuple_of_integers)\n"
   ]
  },
  {
   "cell_type": "raw",
   "id": "28206c1f-b26d-4041-960b-8432af75f1cd",
   "metadata": {},
   "source": [
    "Solution 30"
   ]
  },
  {
   "cell_type": "code",
   "execution_count": 105,
   "id": "433644b0-6aee-447b-ac48-96cb35170b9a",
   "metadata": {},
   "outputs": [
    {
     "name": "stdout",
     "output_type": "stream",
     "text": [
      "Merged Tuple: (1, 2, 3, 'a', 'b', 'c')\n"
     ]
    }
   ],
   "source": [
    "tuple1 = (1, 2, 3)\n",
    "tuple2 = ('a', 'b', 'c')\n",
    "merged_tuple = tuple1 + tuple2\n",
    "print(\"Merged Tuple:\", merged_tuple)\n"
   ]
  },
  {
   "cell_type": "raw",
   "id": "58913343-1f35-4398-ba5d-e11dd091e6f5",
   "metadata": {},
   "source": [
    "Solution 31"
   ]
  },
  {
   "cell_type": "code",
   "execution_count": 108,
   "id": "762817f0-48e7-447c-a4f7-bdecac7a62e3",
   "metadata": {},
   "outputs": [
    {
     "name": "stdout",
     "output_type": "stream",
     "text": [
      "Nested Tuple  : ((1, 2, (3, 4)), 5, (6, 7))\n",
      "Flattened Tuple: (1, 2, (3, 4), 5, 6, 7)\n"
     ]
    }
   ],
   "source": [
    "nested_tuple = ((1, 2, (3, 4)), 5, (6, 7))\n",
    "flattened_tuple = tuple(item for sublist in nested_tuple for item in (sublist if isinstance(sublist, tuple) else (sublist,)))\n",
    "print(\"Nested Tuple  :\", nested_tuple)\n",
    "print(\"Flattened Tuple:\", flattened_tuple)\n"
   ]
  },
  {
   "cell_type": "raw",
   "id": "fd1eccec-671e-410a-a5e2-d8f8f3aa8601",
   "metadata": {},
   "source": [
    "Solution 32"
   ]
  },
  {
   "cell_type": "code",
   "execution_count": 110,
   "id": "b497475e-2618-4bb1-bd3e-6a7059fa76ad",
   "metadata": {},
   "outputs": [
    {
     "name": "stdout",
     "output_type": "stream",
     "text": [
      "Tuple of the first 5 prime numbers: (2, 3, 5, 7, 11)\n"
     ]
    }
   ],
   "source": [
    "def is_prime(num):\n",
    "    if num < 2:\n",
    "        return False\n",
    "    for i in range(2, int(num**0.5) + 1):\n",
    "        if num % i == 0:\n",
    "            return False\n",
    "    return True\n",
    "first_five_primes = tuple(num for num in range(2, 20) if is_prime(num))[:5]\n",
    "print(\"Tuple of the first 5 prime numbers:\", first_five_primes)\n"
   ]
  },
  {
   "cell_type": "raw",
   "id": "eed7c60f-7a81-4f46-85d3-34a54923db12",
   "metadata": {},
   "source": [
    "Solution 33"
   ]
  },
  {
   "cell_type": "code",
   "execution_count": 112,
   "id": "d03b0121-c0d6-461e-a005-bf171346d607",
   "metadata": {},
   "outputs": [
    {
     "name": "stdout",
     "output_type": "stream",
     "text": [
      "Is Palindrome: True\n",
      "Is Palindrome: False\n"
     ]
    }
   ],
   "source": [
    "def is_palindrome(tuple_to_check):\n",
    "    return tuple_to_check == tuple_to_check[::-1]\n",
    "palindrome_tuple = (1, 2, 3, 2, 1)\n",
    "non_palindrome_tuple = (1, 2, 3, 4, 5)\n",
    "print(\"Is Palindrome:\", is_palindrome(palindrome_tuple))\n",
    "print(\"Is Palindrome:\", is_palindrome(non_palindrome_tuple))\n"
   ]
  },
  {
   "cell_type": "raw",
   "id": "9a6e4187-7170-42ce-8320-9f8c48e15adb",
   "metadata": {},
   "source": [
    "Solution 34"
   ]
  },
  {
   "cell_type": "code",
   "execution_count": 114,
   "id": "b5ea2572-94a7-4db5-9ec2-38f235b5f6f7",
   "metadata": {},
   "outputs": [
    {
     "name": "stdout",
     "output_type": "stream",
     "text": [
      "Tuple of squares of numbers from 1 to 5: (1, 4, 9, 16, 25)\n"
     ]
    }
   ],
   "source": [
    "\n",
    "squares_tuple = tuple(x**2 for x in range(1, 6))\n",
    "print(\"Tuple of squares of numbers from 1 to 5:\", squares_tuple)\n"
   ]
  },
  {
   "cell_type": "raw",
   "id": "021cf923-9757-4001-a4f9-1c24e90045fd",
   "metadata": {},
   "source": [
    "Solution 35"
   ]
  },
  {
   "cell_type": "code",
   "execution_count": 116,
   "id": "c3593627-4465-43dc-9fcd-18d9460444c3",
   "metadata": {},
   "outputs": [
    {
     "name": "stdout",
     "output_type": "stream",
     "text": [
      "Original Tuple        : (1, 2, 3, 4, 5, 6, 7, 8, 9, 10)\n",
      "Filtered Tuple (Odd)  : (1, 3, 5, 7, 9)\n"
     ]
    }
   ],
   "source": [
    "\n",
    "original_tuple = (1, 2, 3, 4, 5, 6, 7, 8, 9, 10)\n",
    "filtered_tuple = tuple(x for x in original_tuple if x % 2 != 0)\n",
    "print(\"Original Tuple        :\", original_tuple)\n",
    "print(\"Filtered Tuple (Odd)  :\", filtered_tuple)\n"
   ]
  },
  {
   "cell_type": "raw",
   "id": "babaa545-9543-447e-8605-3b9b735f5559",
   "metadata": {},
   "source": [
    "Solution 36"
   ]
  },
  {
   "cell_type": "code",
   "execution_count": 118,
   "id": "eed73e2a-44f9-4d01-b6ed-b2c6203dba47",
   "metadata": {},
   "outputs": [
    {
     "name": "stdout",
     "output_type": "stream",
     "text": [
      "Original Tuple    : (1, 2, 3, 4, 5)\n",
      "Resulting Tuple   : (2, 4, 6, 8, 10)\n"
     ]
    }
   ],
   "source": [
    "\n",
    "original_tuple = (1, 2, 3, 4, 5)\n",
    "result_tuple = tuple(x * 2 for x in original_tuple)\n",
    "print(\"Original Tuple    :\", original_tuple)\n",
    "print(\"Resulting Tuple   :\", result_tuple)\n"
   ]
  },
  {
   "cell_type": "raw",
   "id": "8004bea9-5d73-4903-a06b-53e6c3335504",
   "metadata": {},
   "source": [
    "Solution 37"
   ]
  },
  {
   "cell_type": "code",
   "execution_count": 121,
   "id": "ff746995-1acc-4253-b84a-3fb7683f3542",
   "metadata": {},
   "outputs": [
    {
     "name": "stdout",
     "output_type": "stream",
     "text": [
      "Tuple of Random Numbers: (84, 18, 21, 28, 26)\n"
     ]
    }
   ],
   "source": [
    "import random\n",
    "random_tuple = tuple(random.randint(1, 100) for _ in range(5))\n",
    "print(\"Tuple of Random Numbers:\", random_tuple)\n"
   ]
  },
  {
   "cell_type": "raw",
   "id": "05b03fa3-7338-45dd-9f9c-69a63e9a3698",
   "metadata": {},
   "source": [
    "Solution 38"
   ]
  },
  {
   "cell_type": "code",
   "execution_count": 124,
   "id": "20822efe-2a92-495e-901f-fb8c1b66c9ea",
   "metadata": {},
   "outputs": [
    {
     "name": "stdout",
     "output_type": "stream",
     "text": [
      "Original Tuple  : (1, 2, 3, 5, 4)\n",
      "Is Sorted       : False\n"
     ]
    }
   ],
   "source": [
    "\n",
    "tuple_to_check = (1, 2, 3, 5, 4)\n",
    "is_sorted = tuple_to_check == tuple(sorted(tuple_to_check))\n",
    "print(\"Original Tuple  :\", tuple_to_check)\n",
    "print(\"Is Sorted       :\", is_sorted)\n"
   ]
  },
  {
   "cell_type": "raw",
   "id": "63cfd9c7-d218-4d0e-b2ae-f7b0f0e17276",
   "metadata": {},
   "source": [
    "Solution 39"
   ]
  },
  {
   "cell_type": "code",
   "execution_count": 127,
   "id": "165237ed-53e5-4ef4-ba8b-a05cb2e131f9",
   "metadata": {},
   "outputs": [
    {
     "name": "stdout",
     "output_type": "stream",
     "text": [
      "Original Tuple   : (1, 2, 3, 4, 5)\n",
      "Rotated Tuple    : (3, 4, 5, 1, 2)\n"
     ]
    }
   ],
   "source": [
    "def rotate_left(tuple_to_rotate, n):\n",
    "    n = n % len(tuple_to_rotate)\n",
    "    return tuple_to_rotate[n:] + tuple_to_rotate[:n]\n",
    "original_tuple = (1, 2, 3, 4, 5)\n",
    "rotated_tuple = rotate_left(original_tuple, 2)\n",
    "print(\"Original Tuple   :\", original_tuple)\n",
    "print(\"Rotated Tuple    :\", rotated_tuple)\n"
   ]
  },
  {
   "cell_type": "raw",
   "id": "1c38a329-3142-4a48-b975-feee46729323",
   "metadata": {},
   "source": [
    "Solution 40"
   ]
  },
  {
   "cell_type": "code",
   "execution_count": 129,
   "id": "ded75fb6-041c-4580-bbe7-30d69adac4b8",
   "metadata": {},
   "outputs": [
    {
     "name": "stdout",
     "output_type": "stream",
     "text": [
      "Original Tuple   : (1, 2, 3, 4, 5)\n",
      "Rotated Tuple    : (4, 5, 1, 2, 3)\n"
     ]
    }
   ],
   "source": [
    "def rotate_right(tuple_to_rotate, n):\n",
    "    n = n % len(tuple_to_rotate)  \n",
    "    rotated_tuple = tuple_to_rotate[-n:] + tuple_to_rotate[:-n]\n",
    "    return rotated_tuple\n",
    "original_tuple = (1, 2, 3, 4, 5)\n",
    "rotated_tuple = rotate_right(original_tuple, 2)\n",
    "print(\"Original Tuple   :\", original_tuple)\n",
    "print(\"Rotated Tuple    :\", rotated_tuple)\n"
   ]
  },
  {
   "cell_type": "raw",
   "id": "d022ee9e-fdcd-41e5-85e5-a010648f570a",
   "metadata": {},
   "source": [
    "Solution 41"
   ]
  },
  {
   "cell_type": "code",
   "execution_count": 131,
   "id": "a7e411ca-ee07-4d4e-a1e2-9320606b0052",
   "metadata": {},
   "outputs": [
    {
     "name": "stdout",
     "output_type": "stream",
     "text": [
      "Tuple of the first 5 Fibonacci numbers: (0, 1, 1, 2, 3)\n"
     ]
    }
   ],
   "source": [
    "\n",
    "def generate_fibonacci(n):\n",
    "    fibonacci_numbers = [0, 1]\n",
    "    while len(fibonacci_numbers) < n:\n",
    "        fibonacci_numbers.append(fibonacci_numbers[-1] + fibonacci_numbers[-2])\n",
    "    return tuple(fibonacci_numbers)\n",
    "first_five_fibonacci = generate_fibonacci(5)\n",
    "\n",
    "print(\"Tuple of the first 5 Fibonacci numbers:\", first_five_fibonacci)\n"
   ]
  },
  {
   "cell_type": "raw",
   "id": "41b5ccc6-abd5-4a1b-b326-a40fb2e1727b",
   "metadata": {},
   "source": [
    "Solution 42"
   ]
  },
  {
   "cell_type": "code",
   "execution_count": null,
   "id": "4cfbe25f-05c4-4979-82ad-90d19d9cc7f9",
   "metadata": {},
   "outputs": [],
   "source": []
  },
  {
   "cell_type": "raw",
   "id": "64966c19-6b26-4a31-95b0-3a3c5840bd4f",
   "metadata": {},
   "source": [
    "Solution 43"
   ]
  },
  {
   "cell_type": "code",
   "execution_count": 139,
   "id": "3fb2e078-55f7-429c-bb26-bff9f1f06248",
   "metadata": {},
   "outputs": [
    {
     "name": "stdout",
     "output_type": "stream",
     "text": [
      "Original Tuple       : (1, 2, 3, 4, 5)\n",
      "Swapped Tuple (indices 1 and 3): (1, 4, 3, 2, 5)\n"
     ]
    }
   ],
   "source": [
    "\n",
    "original_tuple = (1, 2, 3, 4, 5)\n",
    "index1, index2 = 1, 3\n",
    "list_version = list(original_tuple)\n",
    "list_version[index1], list_version[index2] = list_version[index2], list_version[index1]\n",
    "swapped_tuple = tuple(list_version)\n",
    "print(\"Original Tuple       :\", original_tuple)\n",
    "print(f\"Swapped Tuple (indices {index1} and {index2}):\", swapped_tuple)\n"
   ]
  },
  {
   "cell_type": "raw",
   "id": "d24de22a-d5fd-4d1f-801f-2d16c13f959e",
   "metadata": {},
   "source": [
    "Solution 44"
   ]
  },
  {
   "cell_type": "code",
   "execution_count": 140,
   "id": "5d954030-3058-41e7-abdd-30f286548bcd",
   "metadata": {},
   "outputs": [
    {
     "name": "stdout",
     "output_type": "stream",
     "text": [
      "Original Tuple   : (1, 2, 3, 4, 5)\n",
      "Reversed Tuple   : (5, 4, 3, 2, 1)\n"
     ]
    }
   ],
   "source": [
    "\n",
    "original_tuple = (1, 2, 3, 4, 5)\n",
    "reversed_tuple = original_tuple[::-1]\n",
    "print(\"Original Tuple   :\", original_tuple)\n",
    "print(\"Reversed Tuple   :\", reversed_tuple)\n"
   ]
  },
  {
   "cell_type": "raw",
   "id": "444b6df0-6d09-49b9-9c31-d5f586b33307",
   "metadata": {},
   "source": [
    "Solution 45"
   ]
  },
  {
   "cell_type": "code",
   "execution_count": 141,
   "id": "938242cb-c136-4306-9fd2-0d28f79d6ad1",
   "metadata": {},
   "outputs": [
    {
     "name": "stdout",
     "output_type": "stream",
     "text": [
      "Tuple of the first 5 powers of 2: (1, 2, 4, 8, 16)\n"
     ]
    }
   ],
   "source": [
    "\n",
    "def generate_powers_of_2(n):\n",
    "    return tuple(2**i for i in range(n))\n",
    "n = 5\n",
    "powers_of_2_tuple = generate_powers_of_2(n)\n",
    "print(f\"Tuple of the first {n} powers of 2:\", powers_of_2_tuple)\n"
   ]
  },
  {
   "cell_type": "raw",
   "id": "9b1f1195-e32e-4e63-9366-bde70cb8fe1d",
   "metadata": {},
   "source": [
    "Solution 46"
   ]
  },
  {
   "cell_type": "code",
   "execution_count": 143,
   "id": "feb36860-0f93-4352-8a72-6e00fd65ee65",
   "metadata": {},
   "outputs": [
    {
     "name": "stdout",
     "output_type": "stream",
     "text": [
      "Original Tuple of Strings: ('apple', 'banana', 'kiwi', 'orange', 'grapefruit')\n",
      "Longest String            : grapefruit\n"
     ]
    }
   ],
   "source": [
    "\n",
    "tuple_of_strings = ('apple', 'banana', 'kiwi', 'orange', 'grapefruit')\n",
    "longest_string = max(tuple_of_strings, key=len)\n",
    "print(\"Original Tuple of Strings:\", tuple_of_strings)\n",
    "print(\"Longest String            :\", longest_string)\n"
   ]
  },
  {
   "cell_type": "raw",
   "id": "d644662f-743a-4ae0-9fef-7196737cdcea",
   "metadata": {},
   "source": [
    "Solution 47"
   ]
  },
  {
   "cell_type": "code",
   "execution_count": 145,
   "id": "106ae9bd-dc48-4299-98e6-2ac220b3c33b",
   "metadata": {},
   "outputs": [
    {
     "name": "stdout",
     "output_type": "stream",
     "text": [
      "Original Tuple of Strings: ('apple', 'banana', 'kiwi', 'orange', 'grapefruit')\n",
      "Shortest String           : kiwi\n"
     ]
    }
   ],
   "source": [
    "\n",
    "tuple_of_strings = ('apple', 'banana', 'kiwi', 'orange', 'grapefruit')\n",
    "shortest_string = min(tuple_of_strings, key=len)\n",
    "print(\"Original Tuple of Strings:\", tuple_of_strings)\n",
    "print(\"Shortest String           :\", shortest_string)\n"
   ]
  },
  {
   "cell_type": "raw",
   "id": "2be52b31-a08b-4a47-b8e0-bd6755abad38",
   "metadata": {},
   "source": [
    "Solution 48"
   ]
  },
  {
   "cell_type": "code",
   "execution_count": 147,
   "id": "adb2bbc8-32e7-4760-ae05-34ed3fcfed9b",
   "metadata": {},
   "outputs": [
    {
     "name": "stdout",
     "output_type": "stream",
     "text": [
      "Tuple of the first 5 triangular numbers: (0, 1, 3, 6, 10)\n"
     ]
    }
   ],
   "source": [
    "\n",
    "def generate_triangular_numbers(n):\n",
    "    return tuple((i * (i + 1)) // 2 for i in range(n))\n",
    "n = 5\n",
    "triangular_numbers_tuple = generate_triangular_numbers(n)\n",
    "print(f\"Tuple of the first {n} triangular numbers:\", triangular_numbers_tuple)\n"
   ]
  },
  {
   "cell_type": "raw",
   "id": "0dd3070b-6b41-4025-9077-1cb4a0652655",
   "metadata": {},
   "source": [
    "Solution 49"
   ]
  },
  {
   "cell_type": "code",
   "execution_count": 149,
   "id": "6be600b5-fdb5-40a2-b241-7392bb5af427",
   "metadata": {},
   "outputs": [
    {
     "name": "stdout",
     "output_type": "stream",
     "text": [
      "The sub-tuple is a subsequence of the larger tuple.\n"
     ]
    }
   ],
   "source": [
    "def is_subsequence(sub, larger):\n",
    "    return any(larger[i:i+len(sub)] == sub for i in range(len(larger) - len(sub) + 1))\n",
    "larger_tuple = (1, 2, 3, 4, 5, 6, 7, 8)\n",
    "sub_tuple = (3, 4, 5)\n",
    "if is_subsequence(sub_tuple, larger_tuple):\n",
    "    print(\"The sub-tuple is a subsequence of the larger tuple.\")\n",
    "else:\n",
    "    print(\"The sub-tuple is not a subsequence of the larger tuple.\")\n"
   ]
  },
  {
   "cell_type": "raw",
   "id": "2c9fda2c-c57d-4868-83fa-49519d7ad32e",
   "metadata": {},
   "source": [
    "Solution 50"
   ]
  },
  {
   "cell_type": "code",
   "execution_count": 152,
   "id": "be6334be-8ea4-47f9-be9c-7b78ace1dd1e",
   "metadata": {},
   "outputs": [
    {
     "name": "stdout",
     "output_type": "stream",
     "text": [
      "Tuple of alternating 1s and 0s of length 8: (0, 1, 0, 1, 0, 1, 0, 1)\n"
     ]
    }
   ],
   "source": [
    "n = 8  \n",
    "alternating_tuple = tuple((i % 2) for i in range(n))\n",
    "print(f\"Tuple of alternating 1s and 0s of length {n}:\", alternating_tuple)\n"
   ]
  },
  {
   "cell_type": "code",
   "execution_count": null,
   "id": "12bcc3ff-e331-4e07-8635-c3efcb842a1f",
   "metadata": {},
   "outputs": [],
   "source": []
  },
  {
   "cell_type": "raw",
   "id": "981848f5-c1d2-4865-b861-77515d5831fc",
   "metadata": {},
   "source": [
    "SET BASED PROBLEM"
   ]
  },
  {
   "cell_type": "raw",
   "id": "a950effc-90fc-4118-a12e-9e2b1945dbb8",
   "metadata": {},
   "source": [
    "Solution 1"
   ]
  },
  {
   "cell_type": "code",
   "execution_count": 159,
   "id": "781a85d0-6fdf-42a9-bcd7-a8a4fa553831",
   "metadata": {},
   "outputs": [
    {
     "name": "stdout",
     "output_type": "stream",
     "text": [
      "{1, 2, 3, 4, 5}\n"
     ]
    }
   ],
   "source": [
    "my_set = {1, 2, 3, 4, 5}\n",
    "print(my_set)\n"
   ]
  },
  {
   "cell_type": "raw",
   "id": "2f9f85a8-2c1d-438d-a9bd-048a29e3372e",
   "metadata": {},
   "source": [
    "Solution 2"
   ]
  },
  {
   "cell_type": "code",
   "execution_count": 160,
   "id": "57ea2aac-083f-45bb-b4e5-2a3b974eb08e",
   "metadata": {},
   "outputs": [
    {
     "name": "stdout",
     "output_type": "stream",
     "text": [
      "{1, 2, 3, 4, 5, 6}\n"
     ]
    }
   ],
   "source": [
    "\n",
    "my_set = {1, 2, 3, 4, 5}\n",
    "my_set.add(6)\n",
    "print(my_set)\n"
   ]
  },
  {
   "cell_type": "raw",
   "id": "7e38174b-79b2-4101-ab85-86f322ea3fab",
   "metadata": {},
   "source": [
    "Solution 3"
   ]
  },
  {
   "cell_type": "code",
   "execution_count": 162,
   "id": "43718b36-478c-4164-a785-121e23e65910",
   "metadata": {},
   "outputs": [
    {
     "name": "stdout",
     "output_type": "stream",
     "text": [
      "{1, 2, 4, 5}\n"
     ]
    }
   ],
   "source": [
    "\n",
    "my_set = {1, 2, 3, 4, 5}\n",
    "my_set.remove(3)\n",
    "print(my_set)\n"
   ]
  },
  {
   "cell_type": "raw",
   "id": "07879f49-d9eb-4f77-8dae-400d65068f76",
   "metadata": {},
   "source": [
    "Solution 4"
   ]
  },
  {
   "cell_type": "code",
   "execution_count": 165,
   "id": "d3df0ba7-f281-4cbe-a41e-a4dafa4ef009",
   "metadata": {},
   "outputs": [
    {
     "name": "stdout",
     "output_type": "stream",
     "text": [
      "3 exists in the set.\n"
     ]
    }
   ],
   "source": [
    "\n",
    "my_set = {1, 2, 3, 4, 5}\n",
    "element_to_check = 3\n",
    "if {element_to_check}.issubset(my_set):\n",
    "    print(f\"{element_to_check} exists in the set.\")\n",
    "else:\n",
    "    print(f\"{element_to_check} does not exist in the set.\")\n"
   ]
  },
  {
   "cell_type": "raw",
   "id": "bdefbe1f-e32b-4f12-bd17-9bd8f106df39",
   "metadata": {},
   "source": [
    "Solution 5"
   ]
  },
  {
   "cell_type": "code",
   "execution_count": 167,
   "id": "48f99367-dc3a-4676-a904-282d243ce7fe",
   "metadata": {},
   "outputs": [
    {
     "name": "stdout",
     "output_type": "stream",
     "text": [
      "Length of the set: 5\n"
     ]
    }
   ],
   "source": [
    "\n",
    "my_set = {1, 2, 3, 4, 5}\n",
    "length = 0\n",
    "for _ in my_set:\n",
    "    length += 1\n",
    "print(\"Length of the set:\", length)\n"
   ]
  },
  {
   "cell_type": "raw",
   "id": "b78bd52d-d7bf-48b0-80b5-7b8c36055f74",
   "metadata": {},
   "source": [
    "Solution 6"
   ]
  },
  {
   "cell_type": "code",
   "execution_count": 169,
   "id": "8f27d4b0-943e-471a-95d8-ae0f9c82947f",
   "metadata": {},
   "outputs": [
    {
     "name": "stdout",
     "output_type": "stream",
     "text": [
      "Original Set: {1, 2, 3, 4, 5}\n",
      "Set after clearing: set()\n"
     ]
    }
   ],
   "source": [
    "\n",
    "my_set = {1, 2, 3, 4, 5}\n",
    "print(\"Original Set:\", my_set)\n",
    "my_set.clear()\n",
    "print(\"Set after clearing:\", my_set)\n"
   ]
  },
  {
   "cell_type": "raw",
   "id": "096bdd9b-19b4-41f8-9928-68352b7a2636",
   "metadata": {},
   "source": [
    "Solution 7"
   ]
  },
  {
   "cell_type": "code",
   "execution_count": 171,
   "id": "e7dd9935-cbd6-4eb7-8c23-a483074d274e",
   "metadata": {},
   "outputs": [
    {
     "name": "stdout",
     "output_type": "stream",
     "text": [
      "{2, 4, 6, 8, 10}\n"
     ]
    }
   ],
   "source": [
    "\n",
    "even_numbers_set = {x for x in range(1, 11) if x % 2 == 0}\n",
    "print(even_numbers_set)\n"
   ]
  },
  {
   "cell_type": "raw",
   "id": "825cddf0-fa67-4058-af2d-bddf8552ce20",
   "metadata": {},
   "source": [
    "Solution 8"
   ]
  },
  {
   "cell_type": "code",
   "execution_count": 173,
   "id": "fc41004a-d31f-44f1-905d-d60b44ca97d6",
   "metadata": {},
   "outputs": [
    {
     "name": "stdout",
     "output_type": "stream",
     "text": [
      "{1, 3, 5, 7, 9}\n"
     ]
    }
   ],
   "source": [
    "\n",
    "odd_numbers_set = {x for x in range(1, 11) if x % 2 != 0}\n",
    "print(odd_numbers_set)\n"
   ]
  },
  {
   "cell_type": "raw",
   "id": "de1555eb-9cf7-43b3-910c-f6d932ae0293",
   "metadata": {},
   "source": [
    "Solution 9"
   ]
  },
  {
   "cell_type": "code",
   "execution_count": 175,
   "id": "1eb6ff5e-81d8-4cd7-9287-a96058b3790d",
   "metadata": {},
   "outputs": [
    {
     "name": "stdout",
     "output_type": "stream",
     "text": [
      "Union using union() method: {1, 2, 3, 4, 5, 6, 7}\n",
      "Union using | operator: {1, 2, 3, 4, 5, 6, 7}\n"
     ]
    }
   ],
   "source": [
    "\n",
    "set1 = {1, 2, 3, 4, 5}\n",
    "set2 = {3, 4, 5, 6, 7}\n",
    "union_set_method = set1.union(set2)\n",
    "union_set_operator = set1 | set2\n",
    "print(\"Union using union() method:\", union_set_method)\n",
    "print(\"Union using | operator:\", union_set_operator)\n"
   ]
  },
  {
   "cell_type": "raw",
   "id": "370efd78-687d-4b3b-87fd-3ebce4b746b1",
   "metadata": {},
   "source": [
    "Solution 10"
   ]
  },
  {
   "cell_type": "code",
   "execution_count": 177,
   "id": "cd384d5d-93be-4d64-9bc4-fe0b1c1c1c69",
   "metadata": {},
   "outputs": [
    {
     "name": "stdout",
     "output_type": "stream",
     "text": [
      "Intersection using intersection() method: {3, 4, 5}\n",
      "Intersection using & operator: {3, 4, 5}\n"
     ]
    }
   ],
   "source": [
    "\n",
    "set1 = {1, 2, 3, 4, 5}\n",
    "set2 = {3, 4, 5, 6, 7}\n",
    "intersection_set_method = set1.intersection(set2)\n",
    "intersection_set_operator = set1 & set2\n",
    "print(\"Intersection using intersection() method:\", intersection_set_method)\n",
    "print(\"Intersection using & operator:\", intersection_set_operator)\n"
   ]
  },
  {
   "cell_type": "raw",
   "id": "2c17528c-e1d8-4dc5-b860-8232183d8e65",
   "metadata": {},
   "source": [
    "Solution 11"
   ]
  },
  {
   "cell_type": "code",
   "execution_count": 179,
   "id": "83a4777f-8cdb-46a1-bfa3-7457a98da6ac",
   "metadata": {},
   "outputs": [
    {
     "name": "stdout",
     "output_type": "stream",
     "text": [
      "Difference using difference() method: {1, 2}\n",
      "Difference using - operator: {1, 2}\n"
     ]
    }
   ],
   "source": [
    "       \n",
    "set1 = {1, 2, 3, 4, 5}\n",
    "set2 = {3, 4, 5, 6, 7}\n",
    "difference_set_method = set1.difference(set2)\n",
    "difference_set_operator = set1 - set2\n",
    "print(\"Difference using difference() method:\", difference_set_method)\n",
    "print(\"Difference using - operator:\", difference_set_operator)\n"
   ]
  },
  {
   "cell_type": "raw",
   "id": "64975494-b1d2-4128-beb4-01bb726b3037",
   "metadata": {},
   "source": [
    "Solution 12"
   ]
  },
  {
   "cell_type": "code",
   "execution_count": 181,
   "id": "b9e00568-d9f2-4555-a6e8-5bac9a825bb5",
   "metadata": {},
   "outputs": [
    {
     "name": "stdout",
     "output_type": "stream",
     "text": [
      "Using issubset() method: True\n",
      "Using <= operator: True\n"
     ]
    }
   ],
   "source": [
    "\n",
    "set1 = {1, 2, 3, 4, 5}\n",
    "set2 = {2, 4}\n",
    "is_subset_method = set2.issubset(set1)\n",
    "is_subset_operator = set2 <= set1\n",
    "print(\"Using issubset() method:\", is_subset_method)\n",
    "print(\"Using <= operator:\", is_subset_operator)\n"
   ]
  },
  {
   "cell_type": "raw",
   "id": "3774c5a5-c805-4fa1-9a12-1f554784a327",
   "metadata": {},
   "source": [
    "Solution 13"
   ]
  },
  {
   "cell_type": "code",
   "execution_count": 183,
   "id": "eaac339b-8b51-4d46-a11d-cd3c18bd1bf7",
   "metadata": {},
   "outputs": [
    {
     "name": "stdout",
     "output_type": "stream",
     "text": [
      "Using issuperset() method: True\n",
      "Using >= operator: True\n"
     ]
    }
   ],
   "source": [
    "\n",
    "set1 = {1, 2, 3, 4, 5}\n",
    "set2 = {2, 4}\n",
    "is_superset_method = set1.issuperset(set2)\n",
    "is_superset_operator = set1 >= set2\n",
    "print(\"Using issuperset() method:\", is_superset_method)\n",
    "print(\"Using >= operator:\", is_superset_operator)\n"
   ]
  },
  {
   "cell_type": "raw",
   "id": "f085a816-aceb-42af-bbfd-fb551eb6d441",
   "metadata": {},
   "source": [
    "Solution 14"
   ]
  },
  {
   "cell_type": "code",
   "execution_count": 184,
   "id": "dd058295-525c-44d3-98b0-95343886ab34",
   "metadata": {},
   "outputs": [
    {
     "name": "stdout",
     "output_type": "stream",
     "text": [
      "{1, 2, 3, 4, 5}\n"
     ]
    }
   ],
   "source": [
    "\n",
    "my_list = [1, 2, 3, 4, 5]\n",
    "my_set = set(my_list)\n",
    "print(my_set)\n"
   ]
  },
  {
   "cell_type": "raw",
   "id": "f1f07fb5-b64a-42ea-8299-26844c41f289",
   "metadata": {},
   "source": [
    "Solution 15"
   ]
  },
  {
   "cell_type": "code",
   "execution_count": 186,
   "id": "7d84de01-107b-4fcc-98f5-91729cfd5631",
   "metadata": {},
   "outputs": [
    {
     "name": "stdout",
     "output_type": "stream",
     "text": [
      "[1, 2, 3, 4, 5]\n"
     ]
    }
   ],
   "source": [
    "\n",
    "my_set = {1, 2, 3, 4, 5}\n",
    "my_list = list(my_set)\n",
    "print(my_list)\n"
   ]
  },
  {
   "cell_type": "raw",
   "id": "5072ecdb-4770-43f6-a584-a303298f6e19",
   "metadata": {},
   "source": [
    "Solution 16"
   ]
  },
  {
   "cell_type": "code",
   "execution_count": 188,
   "id": "2df4974b-2f1f-49d5-bf81-401affb8de47",
   "metadata": {},
   "outputs": [
    {
     "name": "stdout",
     "output_type": "stream",
     "text": [
      "Removed element: 1\n",
      "Updated set: {2, 3, 4, 5}\n"
     ]
    }
   ],
   "source": [
    "\n",
    "my_set = {1, 2, 3, 4, 5}\n",
    "removed_element = my_set.pop()\n",
    "print(\"Removed element:\", removed_element)\n",
    "print(\"Updated set:\", my_set)\n"
   ]
  },
  {
   "cell_type": "raw",
   "id": "a6a1a872-71b2-4acf-8398-e47321e4ee45",
   "metadata": {},
   "source": [
    "Solution 17"
   ]
  },
  {
   "cell_type": "code",
   "execution_count": 190,
   "id": "56a231b4-ca9b-4ae5-93eb-8c1b1292ea6d",
   "metadata": {},
   "outputs": [
    {
     "name": "stdout",
     "output_type": "stream",
     "text": [
      "Popped element: 1\n",
      "Updated set: {2, 3, 4, 5}\n"
     ]
    }
   ],
   "source": [
    "\n",
    "my_set = {1, 2, 3, 4, 5}\n",
    "popped_element = my_set.pop()\n",
    "print(\"Popped element:\", popped_element)\n",
    "print(\"Updated set:\", my_set)\n"
   ]
  },
  {
   "cell_type": "raw",
   "id": "fceaee7f-3ddf-4b40-a87e-5e8e5d75877a",
   "metadata": {},
   "source": [
    "Solution 18"
   ]
  },
  {
   "cell_type": "code",
   "execution_count": 191,
   "id": "84df1be7-52cd-439e-9ace-01b6683567d0",
   "metadata": {},
   "outputs": [
    {
     "name": "stdout",
     "output_type": "stream",
     "text": [
      "The sets have no elements in common.\n"
     ]
    }
   ],
   "source": [
    "\n",
    "set1 = {1, 2, 3}\n",
    "set2 = {4, 5, 6}\n",
    "no_common_elements = set1.isdisjoint(set2)\n",
    "if no_common_elements:\n",
    "    print(\"The sets have no elements in common.\")\n",
    "else:\n",
    "    print(\"The sets have common elements.\")\n"
   ]
  },
  {
   "cell_type": "raw",
   "id": "d54b6942-97b9-4d4f-ad74-6e619bed9f77",
   "metadata": {},
   "source": [
    "Solution 19"
   ]
  },
  {
   "cell_type": "code",
   "execution_count": 194,
   "id": "6f8e3740-370d-4ca9-8e22-b07b27238c05",
   "metadata": {},
   "outputs": [
    {
     "name": "stdout",
     "output_type": "stream",
     "text": [
      "Symmetric difference using symmetric_difference() method: {1, 2, 6, 7}\n",
      "Symmetric difference using ^ operator: {1, 2, 6, 7}\n"
     ]
    }
   ],
   "source": [
    "\n",
    "set1 = {1, 2, 3, 4, 5}\n",
    "set2 = {3, 4, 5, 6, 7}\n",
    "symmetric_difference_method = set1.symmetric_difference(set2)\n",
    "symmetric_difference_operator = set1 ^ set2\n",
    "print(\"Symmetric difference using symmetric_difference() method:\", symmetric_difference_method)\n",
    "print(\"Symmetric difference using ^ operator:\", symmetric_difference_operator)\n"
   ]
  },
  {
   "cell_type": "raw",
   "id": "334f0e4d-6f12-4651-8b79-58f278bc1fd6",
   "metadata": {},
   "source": [
    "Solution 20"
   ]
  },
  {
   "cell_type": "code",
   "execution_count": 196,
   "id": "014807f4-d271-4952-bc85-e72a05b22bae",
   "metadata": {},
   "outputs": [
    {
     "name": "stdout",
     "output_type": "stream",
     "text": [
      "Updated set1: {1, 2, 3, 4, 5}\n"
     ]
    }
   ],
   "source": [
    "\n",
    "set1 = {1, 2, 3}\n",
    "set2 = {3, 4, 5}\n",
    "set1.update(set2)\n",
    "print(\"Updated set1:\", set1)\n"
   ]
  },
  {
   "cell_type": "raw",
   "id": "9bdccbeb-fd68-45d5-8705-71ffa2047641",
   "metadata": {},
   "source": [
    "Solution 21"
   ]
  },
  {
   "cell_type": "code",
   "execution_count": 198,
   "id": "a5ca99c8-7374-4597-9ebc-f0fdfbef7cbd",
   "metadata": {},
   "outputs": [
    {
     "name": "stdout",
     "output_type": "stream",
     "text": [
      "Set of the first 5 prime numbers: {2, 3, 5, 7, 11}\n"
     ]
    }
   ],
   "source": [
    "\n",
    "def is_prime(num):\n",
    "    if num < 2:\n",
    "        return False\n",
    "    for i in range(2, int(num**0.5) + 1):\n",
    "        if num % i == 0:\n",
    "            return False\n",
    "    return True\n",
    "prime_set = {2, 3, 5, 7, 11}\n",
    "print(\"Set of the first 5 prime numbers:\", prime_set)\n"
   ]
  },
  {
   "cell_type": "raw",
   "id": "eeae2b22-0e01-44a6-bc07-d3d6e33e717f",
   "metadata": {},
   "source": [
    "Solution 22"
   ]
  },
  {
   "cell_type": "code",
   "execution_count": 200,
   "id": "ec76774e-8d26-4826-ac53-b6e066b6d4dd",
   "metadata": {},
   "outputs": [
    {
     "name": "stdout",
     "output_type": "stream",
     "text": [
      "The sets are identical.\n"
     ]
    }
   ],
   "source": [
    "\n",
    "set1 = {1, 2, 3, 4, 5}\n",
    "set2 = {1, 2, 3, 4, 5}\n",
    "are_identical = set1 == set2\n",
    "if are_identical:\n",
    "    print(\"The sets are identical.\")\n",
    "else:\n",
    "    print(\"The sets are not identical.\")\n"
   ]
  },
  {
   "cell_type": "raw",
   "id": "f364805c-1ca2-46c6-b1fd-d66485a2cea1",
   "metadata": {},
   "source": [
    "Solution 23"
   ]
  },
  {
   "cell_type": "code",
   "execution_count": 204,
   "id": "669116a4-a0b8-4109-b754-b5c4cb14055f",
   "metadata": {},
   "outputs": [
    {
     "name": "stdout",
     "output_type": "stream",
     "text": [
      "frozenset({1, 2, 3, 4, 5})\n"
     ]
    }
   ],
   "source": [
    "\n",
    "my_frozen_set = frozenset([1, 2, 3, 4, 5])\n",
    "print(my_frozen_set)\n"
   ]
  },
  {
   "cell_type": "raw",
   "id": "b48e5145-9936-4bbf-b387-e22ba3514d89",
   "metadata": {},
   "source": [
    "Solution 24"
   ]
  },
  {
   "cell_type": "raw",
   "id": "470b6252-cb1e-49d1-9614-78143135139f",
   "metadata": {},
   "source": [
    "\n",
    "set1 = {1, 2, 3}\n",
    "set2 = {4, 5, 6}\n",
    "are_disjoint = set1.isdisjoint(set2)\n",
    "if are_disjoint:\n",
    "    print(\"The sets are disjoint (they have no elements in common).\")\n",
    "else:\n",
    "    print(\"The sets are not disjoint (they have common elements).\")\n"
   ]
  },
  {
   "cell_type": "raw",
   "id": "5fa903dc-eb1d-4107-ab3b-1d87ca2486e4",
   "metadata": {},
   "source": [
    "Solution 25"
   ]
  },
  {
   "cell_type": "code",
   "execution_count": 207,
   "id": "dffc1f75-a434-4dcd-9aff-54811a4c134b",
   "metadata": {},
   "outputs": [
    {
     "name": "stdout",
     "output_type": "stream",
     "text": [
      "{1, 4, 9, 16, 25}\n"
     ]
    }
   ],
   "source": [
    "\n",
    "squares_set = {x**2 for x in range(1, 6)}\n",
    "print(squares_set)\n"
   ]
  },
  {
   "cell_type": "raw",
   "id": "a8fb3af2-1ea4-4651-9a34-3e148b9558c4",
   "metadata": {},
   "source": [
    "Solution 26"
   ]
  },
  {
   "cell_type": "code",
   "execution_count": 210,
   "id": "78ac69ce-f0e7-4eef-8537-87d84f9606c7",
   "metadata": {},
   "outputs": [
    {
     "name": "stdout",
     "output_type": "stream",
     "text": [
      "{1, 3, 5, 7, 9}\n"
     ]
    }
   ],
   "source": [
    "original_set = {1, 2, 3, 4, 5, 6, 7, 8, 9, 10}\n",
    "filtered_set = {num for num in original_set if num % 2 != 0}\n",
    "\n",
    "print(filtered_set)\n"
   ]
  },
  {
   "cell_type": "raw",
   "id": "b7f58ed4-ce2e-41d4-8dad-8ac1ea3cba0c",
   "metadata": {},
   "source": [
    "Solution 27"
   ]
  },
  {
   "cell_type": "code",
   "execution_count": 212,
   "id": "9d1ed48e-62dd-43d6-8fac-0f79b428587f",
   "metadata": {},
   "outputs": [
    {
     "name": "stdout",
     "output_type": "stream",
     "text": [
      "{2, 4, 6, 8, 10}\n"
     ]
    }
   ],
   "source": [
    "original_set = {1, 2, 3, 4, 5}\n",
    "result_set = set(num * 2 for num in original_set)\n",
    "print(result_set)\n"
   ]
  },
  {
   "cell_type": "raw",
   "id": "d972f9ac-4a1e-4166-a101-86c90fe0c0cb",
   "metadata": {},
   "source": [
    "Solution 28"
   ]
  },
  {
   "cell_type": "code",
   "execution_count": 214,
   "id": "d8a1e95b-2505-4815-9c4f-c1419f10a572",
   "metadata": {},
   "outputs": [
    {
     "name": "stdout",
     "output_type": "stream",
     "text": [
      "{6, 7, 8, 9, 10}\n"
     ]
    }
   ],
   "source": [
    "import random\n",
    "random_set = set(random.sample(range(1, 11), 5))\n",
    "print(random_set)\n"
   ]
  },
  {
   "cell_type": "raw",
   "id": "4f1fbb81-735f-4c7e-9aee-b902845243b6",
   "metadata": {},
   "source": [
    "Solution 29"
   ]
  },
  {
   "cell_type": "code",
   "execution_count": 216,
   "id": "f19b4b54-a990-4e9b-a807-c3da03476423",
   "metadata": {},
   "outputs": [
    {
     "name": "stdout",
     "output_type": "stream",
     "text": [
      "The set is empty.\n"
     ]
    }
   ],
   "source": [
    "my_set = set()\n",
    "\n",
    "if not my_set:\n",
    "    print(\"The set is empty.\")\n",
    "else:\n",
    "    print(\"The set is not empty.\")\n"
   ]
  },
  {
   "cell_type": "raw",
   "id": "ea42a638-abe2-4446-8992-0011e17a20b6",
   "metadata": {},
   "source": [
    "Solution 30"
   ]
  },
  {
   "cell_type": "code",
   "execution_count": 219,
   "id": "5f0fd549-c2a1-461c-9e2d-436dcddd665f",
   "metadata": {},
   "outputs": [
    {
     "name": "stdout",
     "output_type": "stream",
     "text": [
      "frozenset({frozenset({3, 4}), frozenset({5, 6}), frozenset({1, 2})})\n"
     ]
    }
   ],
   "source": [
    "nested_set = frozenset([\n",
    "    frozenset({1, 2}),\n",
    "    frozenset({3, 4}),\n",
    "    frozenset({5, 6})\n",
    "])\n",
    "\n",
    "print(nested_set)\n"
   ]
  },
  {
   "cell_type": "raw",
   "id": "fdaca8f0-5089-4ad3-85f8-5620cafa8722",
   "metadata": {},
   "source": [
    "Solution 31"
   ]
  },
  {
   "cell_type": "code",
   "execution_count": 221,
   "id": "c904635d-b1c1-4416-acbb-8b357e89cb4a",
   "metadata": {},
   "outputs": [
    {
     "name": "stdout",
     "output_type": "stream",
     "text": [
      "{1, 2, 4, 5}\n"
     ]
    }
   ],
   "source": [
    "my_set = {1, 2, 3, 4, 5}\n",
    "my_set.discard(3)\n",
    "print(my_set)\n"
   ]
  },
  {
   "cell_type": "raw",
   "id": "0f02e4bb-bc12-4b42-98ab-8fa05d065ac4",
   "metadata": {},
   "source": [
    "Solution 32"
   ]
  },
  {
   "cell_type": "code",
   "execution_count": 223,
   "id": "c05e9b71-7075-4aca-bcfb-53eaca1909bb",
   "metadata": {},
   "outputs": [
    {
     "name": "stdout",
     "output_type": "stream",
     "text": [
      "Are sets equal: False\n"
     ]
    }
   ],
   "source": [
    "set1 = {1, 2, 3, 4, 5}\n",
    "set2 = {3, 4, 5, 6, 7}\n",
    "\n",
    "\n",
    "are_equal = set1 == set2\n",
    "print(f\"Are sets equal: {are_equal}\")"
   ]
  },
  {
   "cell_type": "raw",
   "id": "abec3887-d445-43d8-94b6-1f8d0eed94d4",
   "metadata": {},
   "source": [
    "Solution 33"
   ]
  },
  {
   "cell_type": "code",
   "execution_count": 225,
   "id": "e39429a9-1aa9-43b8-ac4a-bf77f901fe4b",
   "metadata": {},
   "outputs": [
    {
     "name": "stdout",
     "output_type": "stream",
     "text": [
      "{'o', 'e', 'w', 'd', ' ', 'l', 'h', 'r'}\n"
     ]
    }
   ],
   "source": [
    "my_string = \"hello world\"\n",
    "my_set = set(my_string)\n",
    "print(my_set)\n"
   ]
  },
  {
   "cell_type": "raw",
   "id": "246c2b63-0412-4b28-bd76-bc0b7b4439f2",
   "metadata": {},
   "source": [
    "Solution 34"
   ]
  },
  {
   "cell_type": "code",
   "execution_count": 228,
   "id": "125d7a73-bd9f-4abd-a23a-aef0174465a1",
   "metadata": {},
   "outputs": [
    {
     "name": "stdout",
     "output_type": "stream",
     "text": [
      "{1, 2, 3, 4, 5}\n"
     ]
    }
   ],
   "source": [
    "set_of_strings = {\"1\", \"2\", \"3\", \"4\", \"5\"}\n",
    "set_of_integers = {int(x) for x in set_of_strings}\n",
    "print(set_of_integers)\n"
   ]
  },
  {
   "cell_type": "raw",
   "id": "7b986a55-0019-4e61-af62-fdb950bb713a",
   "metadata": {},
   "source": [
    "Solution 35"
   ]
  },
  {
   "cell_type": "code",
   "execution_count": 230,
   "id": "2f2a1db3-e9f8-49f6-8177-c3d57c99afc2",
   "metadata": {},
   "outputs": [
    {
     "name": "stdout",
     "output_type": "stream",
     "text": [
      "{'1', '4', '3', '5', '2'}\n"
     ]
    }
   ],
   "source": [
    "set_of_integers = {1, 2, 3, 4, 5}\n",
    "set_of_strings = {str(x) for x in set_of_integers}\n",
    "print(set_of_strings)\n"
   ]
  },
  {
   "cell_type": "raw",
   "id": "347bf68d-1e56-4a37-9ba4-ac35bfc7fae1",
   "metadata": {},
   "source": [
    "Solution 36"
   ]
  },
  {
   "cell_type": "code",
   "execution_count": 234,
   "id": "707be5ee-87fe-405b-bece-5091c4da9488",
   "metadata": {},
   "outputs": [
    {
     "name": "stdout",
     "output_type": "stream",
     "text": [
      "{1, 2, 3, 4, 5}\n"
     ]
    }
   ],
   "source": [
    "my_tuple = (1, 2, 3, 4, 5)\n",
    "my_set = set(my_tuple)\n",
    "print(my_set)\n"
   ]
  },
  {
   "cell_type": "raw",
   "id": "5a315053-b3aa-461b-bc2e-98bd31255ce1",
   "metadata": {},
   "source": [
    "Solution 37"
   ]
  },
  {
   "cell_type": "code",
   "execution_count": 236,
   "id": "a7a682a6-87fb-408a-8dcf-96d7b594fb6f",
   "metadata": {},
   "outputs": [
    {
     "name": "stdout",
     "output_type": "stream",
     "text": [
      "(1, 2, 3, 4, 5)\n"
     ]
    }
   ],
   "source": [
    "my_set = {1, 2, 3, 4, 5}\n",
    "my_tuple = tuple(my_set)\n",
    "\n",
    "print(my_tuple)\n"
   ]
  },
  {
   "cell_type": "raw",
   "id": "b7069f14-aeb6-4e8d-af54-e2cd35af0615",
   "metadata": {},
   "source": [
    "Solution 38"
   ]
  },
  {
   "cell_type": "code",
   "execution_count": 238,
   "id": "95861f17-a226-4a61-9679-613823241630",
   "metadata": {},
   "outputs": [
    {
     "name": "stdout",
     "output_type": "stream",
     "text": [
      "The maximum value in the set is: 15\n"
     ]
    }
   ],
   "source": [
    "my_set = {10, 5, 8, 15, 3}\n",
    "max_value = max(my_set)\n",
    "print(f\"The maximum value in the set is: {max_value}\")\n"
   ]
  },
  {
   "cell_type": "raw",
   "id": "3c588b62-1dc7-4e9b-9d81-5a7e6a235333",
   "metadata": {},
   "source": [
    "Solution 39"
   ]
  },
  {
   "cell_type": "code",
   "execution_count": 240,
   "id": "8c38ec6d-db92-4565-b356-065707f87694",
   "metadata": {},
   "outputs": [
    {
     "name": "stdout",
     "output_type": "stream",
     "text": [
      "The minimum value in the set is: 3\n"
     ]
    }
   ],
   "source": [
    "my_set = {10, 5, 8, 15, 3}\n",
    "min_value = min(my_set)\n",
    "print(f\"The minimum value in the set is: {min_value}\")\n"
   ]
  },
  {
   "cell_type": "raw",
   "id": "0e545fed-0c9c-4eb5-9a48-bca69653c7c0",
   "metadata": {},
   "source": [
    "Solution 40"
   ]
  },
  {
   "cell_type": "code",
   "execution_count": 242,
   "id": "e337de07-fc16-4e9e-8605-a1b73d34cf03",
   "metadata": {},
   "outputs": [
    {
     "name": "stdin",
     "output_type": "stream",
     "text": [
      "Enter elements separated by commas:  physics , wallah\n"
     ]
    },
    {
     "name": "stdout",
     "output_type": "stream",
     "text": [
      "User input as a set: {' wallah', 'physics '}\n"
     ]
    }
   ],
   "source": [
    "\n",
    "user_input_str = input(\"Enter elements separated by commas: \")\n",
    "\n",
    "elements_list = user_input_str.split(',')\n",
    "user_set = set(elements_list)\n",
    "\n",
    "print(\"User input as a set:\", user_set)\n"
   ]
  },
  {
   "cell_type": "raw",
   "id": "71a51a2e-0d43-4248-b2af-e8a8a215e867",
   "metadata": {},
   "source": [
    "Solution 41"
   ]
  },
  {
   "cell_type": "code",
   "execution_count": 244,
   "id": "b04138d9-c350-4901-9b99-babf3ddd2fee",
   "metadata": {},
   "outputs": [
    {
     "name": "stdout",
     "output_type": "stream",
     "text": [
      "The intersection of the sets is empty.\n"
     ]
    }
   ],
   "source": [
    "set1 = {1, 2, 3, 4, 5}\n",
    "set2 = {6, 7, 8, 9, 10}\n",
    "is_empty_intersection = set1.isdisjoint(set2)\n",
    "\n",
    "if is_empty_intersection:\n",
    "    print(\"The intersection of the sets is empty.\")\n",
    "else:\n",
    "    print(\"The sets have common elements.\")\n"
   ]
  },
  {
   "cell_type": "raw",
   "id": "852480ef-5afd-4357-a259-22bc45958df4",
   "metadata": {},
   "source": [
    "Solution 42"
   ]
  },
  {
   "cell_type": "code",
   "execution_count": 246,
   "id": "f4f27d10-d440-4663-8c70-f4761ee1df3d",
   "metadata": {},
   "outputs": [
    {
     "name": "stdout",
     "output_type": "stream",
     "text": [
      "{0, 1, 2, 3}\n"
     ]
    }
   ],
   "source": [
    "\n",
    "def generate_fibonacci(n):\n",
    "    fibonacci_set = set()\n",
    "    a, b = 0, 1\n",
    "    for _ in range(n):\n",
    "        fibonacci_set.add(a)\n",
    "        a, b = b, a + b\n",
    "    return fibonacci_set\n",
    "first_5_fibonacci = generate_fibonacci(5)\n",
    "\n",
    "print(first_5_fibonacci)\n"
   ]
  },
  {
   "cell_type": "raw",
   "id": "7937eac1-7ff5-4d00-9d6f-5f8cf7031622",
   "metadata": {},
   "source": [
    "Solution 43"
   ]
  },
  {
   "cell_type": "code",
   "execution_count": 248,
   "id": "fe341ef7-2faf-43c7-8789-f9b9eba1bdfe",
   "metadata": {},
   "outputs": [
    {
     "name": "stdout",
     "output_type": "stream",
     "text": [
      "Original List: [1, 2, 3, 1, 4, 2, 5]\n",
      "List without duplicates: [1, 2, 3, 4, 5]\n"
     ]
    }
   ],
   "source": [
    "original_list = [1, 2, 3, 1, 4, 2, 5]\n",
    "unique_list = list(set(original_list))\n",
    "\n",
    "print(\"Original List:\", original_list)\n",
    "print(\"List without duplicates:\", unique_list)\n"
   ]
  },
  {
   "cell_type": "raw",
   "id": "0d4ea27c-80bb-4dae-bc2f-9699908b502d",
   "metadata": {},
   "source": [
    "Solution 44"
   ]
  },
  {
   "cell_type": "code",
   "execution_count": 250,
   "id": "d09395d0-bdad-467e-a399-22c4780226b7",
   "metadata": {},
   "outputs": [
    {
     "name": "stdout",
     "output_type": "stream",
     "text": [
      "The sets have the same elements, regardless of count.\n"
     ]
    }
   ],
   "source": [
    "set1 = {1, 2, 3, 4, 5}\n",
    "set2 = {5, 4, 3, 2, 1}\n",
    "have_same_elements = set1 == set2\n",
    "\n",
    "if have_same_elements:\n",
    "    print(\"The sets have the same elements, regardless of count.\")\n",
    "else:\n",
    "    print(\"The sets do not have the same elements.\")\n"
   ]
  },
  {
   "cell_type": "raw",
   "id": "00ff947c-d733-4f2e-a206-7968191c5282",
   "metadata": {},
   "source": [
    "Solution 45"
   ]
  },
  {
   "cell_type": "code",
   "execution_count": 252,
   "id": "e7118dd9-9a2d-45e7-95dd-ae1b79900bff",
   "metadata": {},
   "outputs": [
    {
     "name": "stdout",
     "output_type": "stream",
     "text": [
      "{1, 2, 4, 8, 16}\n"
     ]
    }
   ],
   "source": [
    "n = 5  \n",
    "powers_of_2_set = {2 ** i for i in range(n)}\n",
    "\n",
    "print(powers_of_2_set)\n"
   ]
  },
  {
   "cell_type": "raw",
   "id": "f3af70bb-d681-4af1-bb5d-e48bdb99a71c",
   "metadata": {},
   "source": [
    "Solution 46"
   ]
  },
  {
   "cell_type": "code",
   "execution_count": 254,
   "id": "2ecb8871-a2ae-48aa-a106-47058f0b5deb",
   "metadata": {},
   "outputs": [
    {
     "name": "stdout",
     "output_type": "stream",
     "text": [
      "Common elements using method: {3, 4, 5}\n",
      "Common elements using operator: {3, 4, 5}\n"
     ]
    }
   ],
   "source": [
    "my_set = {1, 2, 3, 4, 5}\n",
    "my_list = [3, 4, 5, 6, 7]\n",
    "common_elements_method = my_set.intersection(my_list)\n",
    "common_elements_operator = my_set & set(my_list)\n",
    "\n",
    "print(\"Common elements using method:\", common_elements_method)\n",
    "print(\"Common elements using operator:\", common_elements_operator)\n"
   ]
  },
  {
   "cell_type": "raw",
   "id": "17795fcd-9115-489d-8346-72e86ab208d8",
   "metadata": {},
   "source": [
    "Solution 47"
   ]
  },
  {
   "cell_type": "code",
   "execution_count": 256,
   "id": "f5d64cfe-8b96-4bb8-aa5f-22176a8dbef6",
   "metadata": {},
   "outputs": [
    {
     "name": "stdout",
     "output_type": "stream",
     "text": [
      "{1, 3, 6, 10, 15}\n"
     ]
    }
   ],
   "source": [
    "n = 5  \n",
    "triangular_numbers_set = {(i * (i + 1)) // 2 for i in range(1, n + 1)}\n",
    "\n",
    "print(triangular_numbers_set)\n"
   ]
  },
  {
   "cell_type": "raw",
   "id": "006247c5-d89d-40e5-a93a-2e199de5c96e",
   "metadata": {},
   "source": [
    "Solution 48"
   ]
  },
  {
   "cell_type": "code",
   "execution_count": 259,
   "id": "491bac58-f835-4dc4-a517-f1a726bfea51",
   "metadata": {},
   "outputs": [
    {
     "name": "stdout",
     "output_type": "stream",
     "text": [
      "set2 is a subset of set1 (using issubset).\n",
      "set2 is a subset of set1 (using <= operator).\n"
     ]
    }
   ],
   "source": [
    "set1 = {1, 2, 3, 4, 5}\n",
    "set2 = {2, 3}\n",
    "is_subset_method = set2.issubset(set1)\n",
    "is_subset_operator = set2 <= set1\n",
    "\n",
    "if is_subset_method:\n",
    "    print(\"set2 is a subset of set1 (using issubset).\")\n",
    "\n",
    "if is_subset_operator:\n",
    "    print(\"set2 is a subset of set1 (using <= operator).\")\n"
   ]
  },
  {
   "cell_type": "raw",
   "id": "48cc30cb-7d6e-44ce-a74d-f8bdf70ee7b4",
   "metadata": {},
   "source": [
    "Solution 49"
   ]
  },
  {
   "cell_type": "code",
   "execution_count": 261,
   "id": "12755dbf-f19f-4cf0-9098-ff3da0a59e34",
   "metadata": {},
   "outputs": [
    {
     "name": "stdout",
     "output_type": "stream",
     "text": [
      "{0, 1}\n"
     ]
    }
   ],
   "source": [
    "n = 6  \n",
    "alternating_set = {i % 2 for i in range(n)}\n",
    "\n",
    "print(alternating_set)\n"
   ]
  },
  {
   "cell_type": "raw",
   "id": "4f412c3d-dd97-4e5a-9ab7-6588d3477fea",
   "metadata": {},
   "source": [
    "Solution 50"
   ]
  },
  {
   "cell_type": "code",
   "execution_count": 262,
   "id": "e4a17d59-fb35-44a2-a320-de3a77131a70",
   "metadata": {},
   "outputs": [
    {
     "name": "stdout",
     "output_type": "stream",
     "text": [
      "Merged set using union(): {1, 2, 3, 4, 5, 6, 7}\n",
      "Merged set using | operator: {1, 2, 3, 4, 5, 6, 7}\n"
     ]
    }
   ],
   "source": [
    "set1 = {1, 2, 3}\n",
    "set2 = {3, 4, 5}\n",
    "set3 = {5, 6, 7}\n",
    "merged_set_method = set1.union(set2, set3)\n",
    "merged_set_operator = set1 | set2 | set3\n",
    "print(\"Merged set using union():\", merged_set_method)\n",
    "print(\"Merged set using | operator:\", merged_set_operator)\n"
   ]
  }
 ],
 "metadata": {
  "kernelspec": {
   "display_name": "Python 3 (ipykernel)",
   "language": "python",
   "name": "python3"
  },
  "language_info": {
   "codemirror_mode": {
    "name": "ipython",
    "version": 3
   },
   "file_extension": ".py",
   "mimetype": "text/x-python",
   "name": "python",
   "nbconvert_exporter": "python",
   "pygments_lexer": "ipython3",
   "version": "3.10.8"
  }
 },
 "nbformat": 4,
 "nbformat_minor": 5
}
